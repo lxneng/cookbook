{
 "cells": [
  {
   "cell_type": "markdown",
   "metadata": {},
   "source": [
    "https://gobyexample-cn.github.io/stateful-goroutines"
   ]
  },
  {
   "cell_type": "code",
   "execution_count": 1,
   "metadata": {},
   "outputs": [
    {
     "name": "stdout",
     "output_type": "stream",
     "text": [
      "readOps: 83699\n",
      "writeOps: 8718\n"
     ]
    },
    {
     "data": {
      "text/plain": [
       "15 <nil>"
      ]
     },
     "execution_count": 1,
     "metadata": {},
     "output_type": "execute_result"
    }
   ],
   "source": [
    "import (\n",
    "    \"fmt\"\n",
    "    \"math/rand\"\n",
    "    \"sync/atomic\"\n",
    "    \"time\"\n",
    ")\n",
    "\n",
    "type readOp struct {\n",
    "    key  int\n",
    "    resp chan int\n",
    "}\n",
    "type writeOp struct {\n",
    "    key  int\n",
    "    val  int\n",
    "    resp chan bool\n",
    "}\n",
    "\n",
    "\n",
    "\n",
    "var readOps uint64\n",
    "var writeOps uint64\n",
    "\n",
    "reads := make(chan readOp)\n",
    "writes := make(chan writeOp)\n",
    "\n",
    "go func() {\n",
    "    var state = make(map[int]int)\n",
    "    for {\n",
    "        select {\n",
    "        case read := <-reads:\n",
    "            read.resp <- state[read.key]\n",
    "        case write := <-writes:\n",
    "            state[write.key] = write.val\n",
    "            write.resp <- true\n",
    "        }\n",
    "    }\n",
    "}()\n",
    "\n",
    "for r := 0; r < 100; r++ {\n",
    "    go func() {\n",
    "        for {\n",
    "            read := readOp{\n",
    "                key:  rand.Intn(5),\n",
    "                resp: make(chan int)}\n",
    "            reads <- read\n",
    "            <-read.resp\n",
    "            atomic.AddUint64(&readOps, 1)\n",
    "            time.Sleep(time.Millisecond)\n",
    "        }\n",
    "    }()\n",
    "}\n",
    "\n",
    "for w := 0; w < 10; w++ {\n",
    "    go func() {\n",
    "        for {\n",
    "            write := writeOp{\n",
    "                key:  rand.Intn(5),\n",
    "                val:  rand.Intn(100),\n",
    "                resp: make(chan bool)}\n",
    "            writes <- write\n",
    "            <-write.resp\n",
    "            atomic.AddUint64(&writeOps, 1)\n",
    "            time.Sleep(time.Millisecond)\n",
    "        }\n",
    "    }()\n",
    "}\n",
    "\n",
    "time.Sleep(time.Second)\n",
    "\n",
    "readOpsFinal := atomic.LoadUint64(&readOps)\n",
    "fmt.Println(\"readOps:\", readOpsFinal)\n",
    "writeOpsFinal := atomic.LoadUint64(&writeOps)\n",
    "fmt.Println(\"writeOps:\", writeOpsFinal)\n"
   ]
  },
  {
   "cell_type": "code",
   "execution_count": null,
   "metadata": {},
   "outputs": [],
   "source": []
  }
 ],
 "metadata": {
  "kernelspec": {
   "display_name": "Go",
   "language": "go",
   "name": "gophernotes"
  },
  "language_info": {
   "codemirror_mode": "",
   "file_extension": ".go",
   "mimetype": "",
   "name": "go",
   "nbconvert_exporter": "",
   "pygments_lexer": "",
   "version": "go1.14.3"
  }
 },
 "nbformat": 4,
 "nbformat_minor": 4
}
