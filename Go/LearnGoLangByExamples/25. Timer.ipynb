{
 "cells": [
  {
   "cell_type": "code",
   "execution_count": 1,
   "metadata": {},
   "outputs": [],
   "source": [
    "import (\n",
    "    \"fmt\"\n",
    "    \"time\"\n",
    ")"
   ]
  },
  {
   "cell_type": "code",
   "execution_count": 3,
   "metadata": {},
   "outputs": [
    {
     "name": "stdout",
     "output_type": "stream",
     "text": [
      "Timer 1 fired\n"
     ]
    },
    {
     "data": {
      "text/plain": [
       "14 <nil>"
      ]
     },
     "execution_count": 3,
     "metadata": {},
     "output_type": "execute_result"
    }
   ],
   "source": [
    "timer1 := time.NewTimer(2 * time.Second)\n",
    "<-timer1.C\n",
    "fmt.Println(\"Timer 1 fired\")"
   ]
  },
  {
   "cell_type": "code",
   "execution_count": 5,
   "metadata": {},
   "outputs": [
    {
     "name": "stdout",
     "output_type": "stream",
     "text": [
      "Timer 2 stopped\n"
     ]
    }
   ],
   "source": [
    "timer2 := time.NewTimer(time.Second)\n",
    "go func() {\n",
    "    <-timer2.C\n",
    "    fmt.Println(\"Timer 2 fired\")\n",
    "}()\n",
    "stop2 := timer2.Stop()\n",
    "if stop2 {\n",
    "    fmt.Println(\"Timer 2 stopped\")\n",
    "}\n",
    "time.Sleep(2 * time.Second)"
   ]
  },
  {
   "cell_type": "code",
   "execution_count": null,
   "metadata": {},
   "outputs": [],
   "source": []
  }
 ],
 "metadata": {
  "kernelspec": {
   "display_name": "Go",
   "language": "go",
   "name": "gophernotes"
  },
  "language_info": {
   "codemirror_mode": "",
   "file_extension": ".go",
   "mimetype": "",
   "name": "go",
   "nbconvert_exporter": "",
   "pygments_lexer": "",
   "version": "go1.14.3"
  }
 },
 "nbformat": 4,
 "nbformat_minor": 4
}
