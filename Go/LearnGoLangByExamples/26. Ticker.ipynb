{
 "cells": [
  {
   "cell_type": "code",
   "execution_count": 1,
   "metadata": {},
   "outputs": [],
   "source": [
    "import (\n",
    "    \"fmt\"\n",
    "    \"time\"\n",
    ")"
   ]
  },
  {
   "cell_type": "code",
   "execution_count": 2,
   "metadata": {},
   "outputs": [
    {
     "name": "stdout",
     "output_type": "stream",
     "text": [
      "Tick at 2020-05-17 11:18:59.912382089 +0800 CST m=+120.117196052\n",
      "Tick at 2020-05-17 11:19:00.412312563 +0800 CST m=+120.617126525\n",
      "Tick at 2020-05-17 11:19:00.912524301 +0800 CST m=+121.117338183\n",
      "Ticker stopped\n"
     ]
    },
    {
     "data": {
      "text/plain": [
       "15 <nil>"
      ]
     },
     "execution_count": 2,
     "metadata": {},
     "output_type": "execute_result"
    }
   ],
   "source": [
    "ticker := time.NewTicker(500 * time.Millisecond)\n",
    "done := make(chan bool)\n",
    "go func() {\n",
    "    for {\n",
    "        select {\n",
    "        case <-done:\n",
    "            return\n",
    "        case t := <-ticker.C:\n",
    "            fmt.Println(\"Tick at\", t)\n",
    "        }\n",
    "    }\n",
    "}()\n",
    "time.Sleep(1600 * time.Millisecond)\n",
    "ticker.Stop()\n",
    "done <- true\n",
    "fmt.Println(\"Ticker stopped\")"
   ]
  },
  {
   "cell_type": "code",
   "execution_count": null,
   "metadata": {},
   "outputs": [],
   "source": []
  }
 ],
 "metadata": {
  "kernelspec": {
   "display_name": "Go",
   "language": "go",
   "name": "gophernotes"
  },
  "language_info": {
   "codemirror_mode": "",
   "file_extension": ".go",
   "mimetype": "",
   "name": "go",
   "nbconvert_exporter": "",
   "pygments_lexer": "",
   "version": "go1.14.3"
  }
 },
 "nbformat": 4,
 "nbformat_minor": 4
}
