{
 "cells": [
  {
   "cell_type": "markdown",
   "metadata": {},
   "source": [
    "# Channel"
   ]
  },
  {
   "cell_type": "code",
   "execution_count": 2,
   "metadata": {},
   "outputs": [
    {
     "name": "stdout",
     "output_type": "stream",
     "text": [
      "ping\n"
     ]
    },
    {
     "data": {
      "text/plain": [
       "5 <nil>"
      ]
     },
     "execution_count": 2,
     "metadata": {},
     "output_type": "execute_result"
    }
   ],
   "source": [
    "import \"fmt\"\n",
    "\n",
    "messages := make(chan string)\n",
    "go func() { messages <- \"ping\" }()\n",
    "msg := <-messages\n",
    "fmt.Println(msg)"
   ]
  },
  {
   "cell_type": "markdown",
   "metadata": {},
   "source": [
    "# Channel Buffering"
   ]
  },
  {
   "cell_type": "code",
   "execution_count": 3,
   "metadata": {},
   "outputs": [
    {
     "name": "stdout",
     "output_type": "stream",
     "text": [
      "buffered true\n",
      "channel true\n"
     ]
    },
    {
     "data": {
      "text/plain": [
       "13 <nil>"
      ]
     },
     "execution_count": 3,
     "metadata": {},
     "output_type": "execute_result"
    }
   ],
   "source": [
    "messages := make(chan string, 2)\n",
    "messages <- \"buffered\"\n",
    "messages <- \"channel\"\n",
    "fmt.Println(<-messages)\n",
    "fmt.Println(<-messages)"
   ]
  },
  {
   "cell_type": "markdown",
   "metadata": {},
   "source": [
    "# Channel Synchronization"
   ]
  },
  {
   "cell_type": "markdown",
   "metadata": {},
   "source": [
    "We can use channels to synchronize execution across goroutines. Here’s an example of using a blocking receive to wait for a goroutine to finish. When waiting for multiple goroutines to finish, you may prefer to use a WaitGroup."
   ]
  },
  {
   "cell_type": "code",
   "execution_count": 4,
   "metadata": {},
   "outputs": [
    {
     "name": "stdout",
     "output_type": "stream",
     "text": [
      "working...done\n"
     ]
    },
    {
     "data": {
      "text/plain": [
       "true true"
      ]
     },
     "execution_count": 4,
     "metadata": {},
     "output_type": "execute_result"
    }
   ],
   "source": [
    "import (\n",
    "    \"fmt\"\n",
    "    \"time\"\n",
    ")\n",
    "func worker(done chan bool) {\n",
    "    fmt.Print(\"working...\")\n",
    "    time.Sleep(time.Second)\n",
    "    fmt.Println(\"done\")\n",
    "    \n",
    "    done <- true\n",
    "}\n",
    "\n",
    "done := make(chan bool, 1)\n",
    "go worker(done)\n",
    "<- done"
   ]
  },
  {
   "cell_type": "markdown",
   "metadata": {},
   "source": [
    "Block until we receive a notification from the worker on the channel."
   ]
  },
  {
   "cell_type": "markdown",
   "metadata": {},
   "source": [
    "# Channel Directions"
   ]
  },
  {
   "cell_type": "markdown",
   "metadata": {},
   "source": [
    "This ping function only accepts a channel for sending values. It would be a compile-time error to try to receive on this channel."
   ]
  },
  {
   "cell_type": "code",
   "execution_count": 5,
   "metadata": {},
   "outputs": [],
   "source": [
    "func ping(pings chan<- string, msg string) {\n",
    "    pings <- msg\n",
    "}"
   ]
  },
  {
   "cell_type": "markdown",
   "metadata": {},
   "source": [
    "The pong function accepts one channel for receives (pings) and a second for sends (pongs)."
   ]
  },
  {
   "cell_type": "code",
   "execution_count": 6,
   "metadata": {},
   "outputs": [],
   "source": [
    "func pong(pings <-chan string, pongs chan<- string) {\n",
    "    msg := <-pings\n",
    "    pongs <- msg\n",
    "}"
   ]
  },
  {
   "cell_type": "code",
   "execution_count": 7,
   "metadata": {},
   "outputs": [],
   "source": [
    "pings := make(chan string, 1)\n",
    "pongs := make(chan string, 1)"
   ]
  },
  {
   "cell_type": "code",
   "execution_count": 8,
   "metadata": {},
   "outputs": [],
   "source": [
    "ping(pings, \"passed message\")"
   ]
  },
  {
   "cell_type": "code",
   "execution_count": 9,
   "metadata": {},
   "outputs": [],
   "source": [
    "pong(pings, pongs)"
   ]
  },
  {
   "cell_type": "code",
   "execution_count": 10,
   "metadata": {},
   "outputs": [
    {
     "name": "stdout",
     "output_type": "stream",
     "text": [
      "passed message true\n"
     ]
    },
    {
     "data": {
      "text/plain": [
       "20 <nil>"
      ]
     },
     "execution_count": 10,
     "metadata": {},
     "output_type": "execute_result"
    }
   ],
   "source": [
    "fmt.Println(<-pongs)"
   ]
  },
  {
   "cell_type": "code",
   "execution_count": null,
   "metadata": {},
   "outputs": [],
   "source": []
  }
 ],
 "metadata": {
  "kernelspec": {
   "display_name": "Go",
   "language": "go",
   "name": "gophernotes"
  },
  "language_info": {
   "codemirror_mode": "",
   "file_extension": ".go",
   "mimetype": "",
   "name": "go",
   "nbconvert_exporter": "",
   "pygments_lexer": "",
   "version": "go1.14.3"
  }
 },
 "nbformat": 4,
 "nbformat_minor": 4
}
