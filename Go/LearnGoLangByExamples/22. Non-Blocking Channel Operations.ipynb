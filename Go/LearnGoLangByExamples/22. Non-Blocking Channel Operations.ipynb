{
 "cells": [
  {
   "cell_type": "code",
   "execution_count": 1,
   "metadata": {},
   "outputs": [],
   "source": [
    "import \"fmt\""
   ]
  },
  {
   "cell_type": "code",
   "execution_count": 2,
   "metadata": {},
   "outputs": [
    {
     "name": "stdout",
     "output_type": "stream",
     "text": [
      "no message received\n"
     ]
    }
   ],
   "source": [
    "messages := make(chan string, 1)\n",
    "signals := make(chan bool)\n",
    "select {\n",
    "case msg := <-messages:\n",
    "    fmt.Println(\"received message\", msg)\n",
    "default:\n",
    "    fmt.Println(\"no message received\")\n",
    "}"
   ]
  },
  {
   "cell_type": "code",
   "execution_count": 3,
   "metadata": {},
   "outputs": [
    {
     "name": "stdout",
     "output_type": "stream",
     "text": [
      "sent message hi\n"
     ]
    }
   ],
   "source": [
    "msg := \"hi\"\n",
    "select {\n",
    "case messages <- msg:\n",
    "    fmt.Println(\"sent message\", msg)\n",
    "default:\n",
    "    fmt.Println(\"no message sent\")\n",
    "}"
   ]
  },
  {
   "cell_type": "code",
   "execution_count": 4,
   "metadata": {},
   "outputs": [
    {
     "name": "stdout",
     "output_type": "stream",
     "text": [
      "received message hi\n"
     ]
    }
   ],
   "source": [
    "select {\n",
    "case msg := <-messages:\n",
    "    fmt.Println(\"received message\", msg)\n",
    "case sig := <-signals:\n",
    "    fmt.Println(\"received signal\", sig)\n",
    "default:\n",
    "    fmt.Println(\"no activity\")\n",
    "}"
   ]
  },
  {
   "cell_type": "code",
   "execution_count": null,
   "metadata": {},
   "outputs": [],
   "source": []
  }
 ],
 "metadata": {
  "kernelspec": {
   "display_name": "Go",
   "language": "go",
   "name": "gophernotes"
  },
  "language_info": {
   "codemirror_mode": "",
   "file_extension": ".go",
   "mimetype": "",
   "name": "go",
   "nbconvert_exporter": "",
   "pygments_lexer": "",
   "version": "go1.14.3"
  }
 },
 "nbformat": 4,
 "nbformat_minor": 4
}
