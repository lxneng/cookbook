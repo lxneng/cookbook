{
 "cells": [
  {
   "cell_type": "markdown",
   "metadata": {},
   "source": [
    "# Switch"
   ]
  },
  {
   "cell_type": "code",
   "execution_count": 1,
   "metadata": {},
   "outputs": [],
   "source": [
    "import (\n",
    "    \"fmt\"\n",
    "    \"time\"\n",
    ")"
   ]
  },
  {
   "cell_type": "code",
   "execution_count": 2,
   "metadata": {},
   "outputs": [
    {
     "name": "stdout",
     "output_type": "stream",
     "text": [
      "write 2 as two\n"
     ]
    }
   ],
   "source": [
    "i := 2\n",
    "fmt.Print(\"write \", i, \" as \")\n",
    "switch i {\n",
    "case 1:\n",
    "    fmt.Println(\"one\")\n",
    "case 2:\n",
    "    fmt.Println(\"two\")\n",
    "case 3:\n",
    "    fmt.Println(\"three\")\n",
    "}"
   ]
  },
  {
   "cell_type": "code",
   "execution_count": 3,
   "metadata": {},
   "outputs": [
    {
     "name": "stdout",
     "output_type": "stream",
     "text": [
      "It's the weekend\n"
     ]
    }
   ],
   "source": [
    "switch time.Now().Weekday() {\n",
    "case time.Saturday, time.Sunday:\n",
    "    fmt.Println(\"It's the weekend\")\n",
    "default:\n",
    "    fmt.Println(\"It's a weekday\")\n",
    "}"
   ]
  },
  {
   "cell_type": "code",
   "execution_count": 4,
   "metadata": {},
   "outputs": [
    {
     "name": "stdout",
     "output_type": "stream",
     "text": [
      "It's after noon\n"
     ]
    }
   ],
   "source": [
    "t := time.Now()\n",
    "switch {\n",
    "case t.Hour() < 12:\n",
    "    fmt.Println(\"It's before noon\")\n",
    "default:\n",
    "    fmt.Println(\"It's after noon\")\n",
    "}"
   ]
  },
  {
   "cell_type": "code",
   "execution_count": 5,
   "metadata": {},
   "outputs": [
    {
     "name": "stdout",
     "output_type": "stream",
     "text": [
      "I'm a bool\n",
      "I'm an int\n",
      "Don't know type string\n"
     ]
    }
   ],
   "source": [
    "whatAmI := func(i interface{}) {\n",
    "    switch t := i.(type) {\n",
    "    case bool:\n",
    "        fmt.Println(\"I'm a bool\")\n",
    "    case int:\n",
    "        fmt.Println(\"I'm an int\")\n",
    "    default:\n",
    "        fmt.Printf(\"Don't know type %T\\n\", t)\n",
    "    }\n",
    "}\n",
    "whatAmI(true)\n",
    "whatAmI(1)\n",
    "whatAmI(\"hey\")"
   ]
  },
  {
   "cell_type": "code",
   "execution_count": null,
   "metadata": {},
   "outputs": [],
   "source": []
  }
 ],
 "metadata": {
  "kernelspec": {
   "display_name": "Go",
   "language": "go",
   "name": "gophernotes"
  },
  "language_info": {
   "codemirror_mode": "",
   "file_extension": ".go",
   "mimetype": "",
   "name": "go",
   "nbconvert_exporter": "",
   "pygments_lexer": "",
   "version": "go1.14.3"
  }
 },
 "nbformat": 4,
 "nbformat_minor": 4
}
