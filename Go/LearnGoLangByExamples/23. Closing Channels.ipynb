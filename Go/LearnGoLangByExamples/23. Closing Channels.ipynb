{
 "cells": [
  {
   "cell_type": "code",
   "execution_count": 1,
   "metadata": {},
   "outputs": [],
   "source": [
    "import \"fmt\""
   ]
  },
  {
   "cell_type": "code",
   "execution_count": 9,
   "metadata": {},
   "outputs": [],
   "source": [
    "jobs := make(chan int, 5)\n",
    "done := make(chan bool)"
   ]
  },
  {
   "cell_type": "code",
   "execution_count": 10,
   "metadata": {},
   "outputs": [
    {
     "name": "stdout",
     "output_type": "stream",
     "text": [
      "sent job 1\n",
      "sent job 2\n",
      "sent job 3\n",
      "sent all jobs\n",
      "received job 1\n",
      "received job 2\n",
      "received job 3\n",
      "received all jobs\n"
     ]
    },
    {
     "data": {
      "text/plain": [
       "true true"
      ]
     },
     "execution_count": 10,
     "metadata": {},
     "output_type": "execute_result"
    }
   ],
   "source": [
    "go func() {\n",
    "    for {\n",
    "        j, more := <-jobs\n",
    "        if more {\n",
    "            fmt.Println(\"received job\", j)\n",
    "        } else {\n",
    "            fmt.Println(\"received all jobs\")\n",
    "            done <- true\n",
    "            return\n",
    "        }\n",
    "    }\n",
    "}()\n",
    "for j := 1; j <= 3; j++ {\n",
    "    jobs <- j\n",
    "    fmt.Println(\"sent job\", j)\n",
    "}\n",
    "close(jobs)\n",
    "\n",
    "fmt.Println(\"sent all jobs\")\n",
    "\n",
    "<-done"
   ]
  },
  {
   "cell_type": "code",
   "execution_count": null,
   "metadata": {},
   "outputs": [],
   "source": []
  }
 ],
 "metadata": {
  "kernelspec": {
   "display_name": "Go",
   "language": "go",
   "name": "gophernotes"
  },
  "language_info": {
   "codemirror_mode": "",
   "file_extension": ".go",
   "mimetype": "",
   "name": "go",
   "nbconvert_exporter": "",
   "pygments_lexer": "",
   "version": "go1.14.3"
  }
 },
 "nbformat": 4,
 "nbformat_minor": 4
}
