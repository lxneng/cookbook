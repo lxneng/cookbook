{
 "cells": [
  {
   "cell_type": "markdown",
   "metadata": {},
   "source": [
    "# Errors"
   ]
  },
  {
   "cell_type": "code",
   "execution_count": 21,
   "metadata": {},
   "outputs": [],
   "source": [
    "import (\n",
    "    \"errors\"\n",
    "    \"fmt\"\n",
    ")"
   ]
  },
  {
   "cell_type": "code",
   "execution_count": 2,
   "metadata": {},
   "outputs": [],
   "source": [
    "func f1(arg int) (int, error) {\n",
    "    if arg == 42 {\n",
    "        return -1, errors.New(\"can't work with 42\")\n",
    "    }\n",
    "    return arg + 3, nil\n",
    "    "
   ]
  },
  {
   "cell_type": "markdown",
   "metadata": {},
   "source": [
    "你还可以通过实现 Error() 方法来自定义 error 类型。 这里使用自定义错误类型来表示上面例子中的参数错误。\n",
    "在这个例子中，我们使用 &argError 语法来建立一个新的结构体， 并提供了 arg 和 prob 两个字段的值\n"
   ]
  },
  {
   "cell_type": "code",
   "execution_count": 19,
   "metadata": {},
   "outputs": [
    {
     "ename": "ERROR",
     "evalue": "repl.go:11:20: cannot convert type <*main.argError> to interface <error>: missing method  Error",
     "output_type": "error",
     "traceback": [
      "repl.go:11:20: cannot convert type <*main.argError> to interface <error>: missing method  Error"
     ]
    }
   ],
   "source": [
    "type argError struct {\n",
    "    arg  int\n",
    "    prob string\n",
    "}\n",
    "func (e *argError) Error() string {\n",
    "    return fmt.Sprintf(\"%d - %s\", e.arg, e.prob)\n",
    "}\n",
    "\n",
    "func f2(arg int) (int, error) {\n",
    "    if arg == 42 {\n",
    "        return -1, &argError{arg, \"can't work with it\"}\n",
    "    }\n",
    "    return arg + 3, nil\n",
    "}"
   ]
  },
  {
   "cell_type": "code",
   "execution_count": 22,
   "metadata": {},
   "outputs": [
    {
     "ename": "ERROR",
     "evalue": "repl.go:9:16: undefined identifier: f2",
     "output_type": "error",
     "traceback": [
      "repl.go:9:16: undefined identifier: f2"
     ]
    }
   ],
   "source": [
    "for _, i := range []int{7, 42} {\n",
    "    if r, e := f1(i); e != nil {\n",
    "        fmt.Println(\"f1 failed:\", e)\n",
    "    } else {\n",
    "        fmt.Println(\"f1 worked:\", r)\n",
    "    }\n",
    "}\n",
    "for _, i := range []int{7, 42} {\n",
    "    if r, e := f2(i); e != nil {\n",
    "        fmt.Println(\"f2 failed:\", e)\n",
    "    } else {\n",
    "        fmt.Println(\"f2 worked:\", r)\n",
    "    }\n",
    "}\n",
    "_, e := f2(42)\n",
    "if ae, ok := e.(*argError); ok {\n",
    "    fmt.Println(ae.arg)\n",
    "    fmt.Println(ae.prob)\n",
    "}\n"
   ]
  },
  {
   "cell_type": "markdown",
   "metadata": {},
   "source": [
    "```\n",
    "$ go run errors.go\n",
    "f1 worked: 10\n",
    "f1 failed: can't work with 42\n",
    "f2 worked: 10\n",
    "f2 failed: 42 - can't work with it\n",
    "42\n",
    "can't work with it\n",
    "```"
   ]
  },
  {
   "cell_type": "code",
   "execution_count": null,
   "metadata": {},
   "outputs": [],
   "source": []
  }
 ],
 "metadata": {
  "kernelspec": {
   "display_name": "Go",
   "language": "go",
   "name": "gophernotes"
  },
  "language_info": {
   "codemirror_mode": "",
   "file_extension": ".go",
   "mimetype": "",
   "name": "go",
   "nbconvert_exporter": "",
   "pygments_lexer": "",
   "version": "go1.14.3"
  }
 },
 "nbformat": 4,
 "nbformat_minor": 4
}
