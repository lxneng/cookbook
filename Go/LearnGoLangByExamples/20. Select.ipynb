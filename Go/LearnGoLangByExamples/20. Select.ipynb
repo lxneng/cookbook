{
 "cells": [
  {
   "cell_type": "code",
   "execution_count": 1,
   "metadata": {},
   "outputs": [],
   "source": [
    "import (\n",
    "    \"fmt\"\n",
    "    \"time\"\n",
    ")"
   ]
  },
  {
   "cell_type": "code",
   "execution_count": 2,
   "metadata": {},
   "outputs": [
    {
     "name": "stdout",
     "output_type": "stream",
     "text": [
      "received one\n",
      "received two\n"
     ]
    }
   ],
   "source": [
    "c1 := make(chan string)\n",
    "c2 := make(chan string)\n",
    "go func() {\n",
    "    time.Sleep(1 * time.Second)\n",
    "    c1 <- \"one\"\n",
    "}()\n",
    "go func() {\n",
    "    time.Sleep(2 * time.Second)\n",
    "    c2 <- \"two\"\n",
    "}()\n",
    "for i := 0; i < 2; i++ {\n",
    "    select {\n",
    "    case msg1 := <-c1:\n",
    "        fmt.Println(\"received\", msg1)\n",
    "    case msg2 := <-c2:\n",
    "        fmt.Println(\"received\", msg2)\n",
    "    }\n",
    "}"
   ]
  },
  {
   "cell_type": "code",
   "execution_count": null,
   "metadata": {},
   "outputs": [],
   "source": []
  }
 ],
 "metadata": {
  "kernelspec": {
   "display_name": "Go",
   "language": "go",
   "name": "gophernotes"
  },
  "language_info": {
   "codemirror_mode": "",
   "file_extension": ".go",
   "mimetype": "",
   "name": "go",
   "nbconvert_exporter": "",
   "pygments_lexer": "",
   "version": "go1.14.3"
  }
 },
 "nbformat": 4,
 "nbformat_minor": 4
}
