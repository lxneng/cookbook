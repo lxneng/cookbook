{
 "cells": [
  {
   "cell_type": "code",
   "execution_count": 1,
   "metadata": {},
   "outputs": [],
   "source": [
    "import (\n",
    "    \"fmt\"\n",
    "    \"time\"\n",
    ")"
   ]
  },
  {
   "cell_type": "code",
   "execution_count": 2,
   "metadata": {},
   "outputs": [],
   "source": [
    "func worker(id int, jobs <-chan int, results chan<- int) {\n",
    "    for j := range jobs {\n",
    "        fmt.Println(\"worker\", id, \"started  job\", j)\n",
    "        time.Sleep(time.Second)\n",
    "        fmt.Println(\"worker\", id, \"finished job\", j)\n",
    "        results <- j * 2\n",
    "    }\n",
    "}"
   ]
  },
  {
   "cell_type": "code",
   "execution_count": 9,
   "metadata": {},
   "outputs": [
    {
     "name": "stdout",
     "output_type": "stream",
     "text": [
      "worker 3 started  job 1\n",
      "worker 1 started  job 2\n",
      "worker 2 started  job 3\n",
      "worker 1 finished job 2\n",
      "worker 3 finished job 1\n",
      "worker 3 started  job 4\n",
      "worker 2 finished job 3\n",
      "worker 2 started  job 5\n",
      "worker 2 finished job 5\n",
      "worker 3 finished job 4\n"
     ]
    }
   ],
   "source": [
    "const numJobs = 5\n",
    "jobs := make(chan int, numJobs)\n",
    "results := make(chan int, numJobs)\n",
    "for w := 1; w <= 3; w++ {\n",
    "    go worker(w, jobs, results)\n",
    "}\n",
    "\n",
    "for j := 1; j <= numJobs; j++ {\n",
    "    jobs <- j\n",
    "}\n",
    "close(jobs)\n",
    "for a := 1; a <= numJobs; a++ {\n",
    "    <-results\n",
    "}"
   ]
  },
  {
   "cell_type": "code",
   "execution_count": null,
   "metadata": {},
   "outputs": [],
   "source": []
  }
 ],
 "metadata": {
  "kernelspec": {
   "display_name": "Go",
   "language": "go",
   "name": "gophernotes"
  },
  "language_info": {
   "codemirror_mode": "",
   "file_extension": ".go",
   "mimetype": "",
   "name": "go",
   "nbconvert_exporter": "",
   "pygments_lexer": "",
   "version": "go1.14.3"
  }
 },
 "nbformat": 4,
 "nbformat_minor": 4
}
