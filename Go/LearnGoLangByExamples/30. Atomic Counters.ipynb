{
 "cells": [
  {
   "cell_type": "code",
   "execution_count": 1,
   "metadata": {},
   "outputs": [],
   "source": [
    "import (\n",
    "    \"fmt\"\n",
    "    \"sync\"\n",
    "    \"sync/atomic\"\n",
    ")"
   ]
  },
  {
   "cell_type": "code",
   "execution_count": 4,
   "metadata": {},
   "outputs": [
    {
     "name": "stdout",
     "output_type": "stream",
     "text": [
      "ops: 50000\n"
     ]
    },
    {
     "data": {
      "text/plain": [
       "11 <nil>"
      ]
     },
     "execution_count": 4,
     "metadata": {},
     "output_type": "execute_result"
    }
   ],
   "source": [
    "var ops uint64\n",
    "\n",
    "var wg sync.WaitGroup\n",
    "\n",
    "for i := 0; i < 50; i++ {\n",
    "    wg.Add(1)\n",
    "\n",
    "    go func() {\n",
    "        for c := 0; c < 1000; c++ {\n",
    "\n",
    "            atomic.AddUint64(&ops, 1)\n",
    "        }\n",
    "        wg.Done()\n",
    "    }()\n",
    "}\n",
    "\n",
    "wg.Wait()\n",
    "\n",
    "fmt.Println(\"ops:\", ops)"
   ]
  },
  {
   "cell_type": "code",
   "execution_count": null,
   "metadata": {},
   "outputs": [],
   "source": []
  }
 ],
 "metadata": {
  "kernelspec": {
   "display_name": "Go",
   "language": "go",
   "name": "gophernotes"
  },
  "language_info": {
   "codemirror_mode": "",
   "file_extension": ".go",
   "mimetype": "",
   "name": "go",
   "nbconvert_exporter": "",
   "pygments_lexer": "",
   "version": "go1.14.3"
  }
 },
 "nbformat": 4,
 "nbformat_minor": 4
}
