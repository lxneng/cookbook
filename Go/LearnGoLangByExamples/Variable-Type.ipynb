{
 "cells": [
  {
   "cell_type": "markdown",
   "metadata": {},
   "source": [
    "# show type of the variable"
   ]
  },
  {
   "cell_type": "code",
   "execution_count": 1,
   "metadata": {},
   "outputs": [],
   "source": [
    "import (    \n",
    "    \"fmt\"\n",
    "    \"reflect\"\n",
    ")"
   ]
  },
  {
   "cell_type": "code",
   "execution_count": 2,
   "metadata": {},
   "outputs": [
    {
     "name": "stdout",
     "output_type": "stream",
     "text": [
      "\n",
      "######################################\n",
      "\n",
      "string\n",
      "int\n",
      "float64\n",
      "bool\n",
      "[]string\n",
      "map[string]int\n",
      "\n",
      "######################################\n",
      "\n",
      "string\n",
      "int\n",
      "float64\n",
      "bool\n",
      "slice\n",
      "map\n",
      "\n",
      "######################################\n",
      "\n",
      "string\n",
      "int\n",
      "float64\n",
      "bool\n",
      "[]string\n",
      "map[string]int\n"
     ]
    },
    {
     "data": {
      "text/plain": [
       "15 <nil>"
      ]
     },
     "execution_count": 2,
     "metadata": {},
     "output_type": "execute_result"
    }
   ],
   "source": [
    "tst1 := \"string\"\n",
    "tst2 := 10\n",
    "tst3 := 1.2\n",
    "tst4 := true\n",
    "tst5 := []string{\"foo\", \"bar\", \"baz\"}\n",
    "tst6 := map[string]int{\"apple\": 23, \"tomato\": 13}\n",
    "\n",
    "fmt.Println(\"\\n######################################\\n\")       \n",
    "fmt.Println(reflect.TypeOf(tst1))   \n",
    "fmt.Println(reflect.TypeOf(tst2))\n",
    "fmt.Println(reflect.TypeOf(tst3))\n",
    "fmt.Println(reflect.TypeOf(tst4))\n",
    "fmt.Println(reflect.TypeOf(tst5))\n",
    "fmt.Println(reflect.TypeOf(tst6))\n",
    "\n",
    "fmt.Println(\"\\n######################################\\n\")\n",
    "fmt.Println(reflect.ValueOf(tst1).Kind())\n",
    "fmt.Println(reflect.ValueOf(tst2).Kind())\n",
    "fmt.Println(reflect.ValueOf(tst3).Kind())\n",
    "fmt.Println(reflect.ValueOf(tst4).Kind())\n",
    "fmt.Println(reflect.ValueOf(tst5).Kind())\n",
    "fmt.Println(reflect.ValueOf(tst6).Kind())\n",
    "\n",
    "fmt.Println(\"\\n######################################\\n\")\n",
    "fmt.Printf(\"%T\\n\", tst1)\n",
    "fmt.Printf(\"%T\\n\", tst2)\n",
    "fmt.Printf(\"%T\\n\", tst3)\n",
    "fmt.Printf(\"%T\\n\", tst4)\n",
    "fmt.Printf(\"%T\\n\", tst5)\n",
    "fmt.Printf(\"%T\\n\", tst6)"
   ]
  },
  {
   "cell_type": "markdown",
   "metadata": {},
   "source": [
    "https://www.golangprograms.com/go-language/golang-maps.html"
   ]
  },
  {
   "cell_type": "code",
   "execution_count": null,
   "metadata": {},
   "outputs": [],
   "source": []
  }
 ],
 "metadata": {
  "kernelspec": {
   "display_name": "Go",
   "language": "go",
   "name": "gophernotes"
  },
  "language_info": {
   "codemirror_mode": "",
   "file_extension": ".go",
   "mimetype": "",
   "name": "go",
   "nbconvert_exporter": "",
   "pygments_lexer": "",
   "version": "go1.14.3"
  }
 },
 "nbformat": 4,
 "nbformat_minor": 4
}
