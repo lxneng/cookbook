{
 "cells": [
  {
   "cell_type": "code",
   "execution_count": 1,
   "metadata": {},
   "outputs": [],
   "source": [
    "import (\n",
    "    \"fmt\"\n",
    "    \"sync\"\n",
    "    \"time\"\n",
    ")"
   ]
  },
  {
   "cell_type": "code",
   "execution_count": 2,
   "metadata": {},
   "outputs": [],
   "source": [
    "func worker(id int, wg *sync.WaitGroup) {\n",
    "    defer wg.Done()\n",
    "    fmt.Printf(\"Worker %d starting\\n\", id)\n",
    "    time.Sleep(time.Second)\n",
    "    fmt.Printf(\"Worker %d done\\n\", id)\n",
    "}"
   ]
  },
  {
   "cell_type": "markdown",
   "metadata": {},
   "source": [
    "This WaitGroup is used to wait for all the goroutines launched here to finish.\n",
    "\n",
    "Launch several goroutines and increment the WaitGroup counter for each.\n",
    "\n",
    "Block until the WaitGroup counter goes back to 0; all the workers notified they’re done."
   ]
  },
  {
   "cell_type": "code",
   "execution_count": 3,
   "metadata": {},
   "outputs": [
    {
     "name": "stdout",
     "output_type": "stream",
     "text": [
      "Worker 5 starting\n",
      "Worker 2 starting\n",
      "Worker 4 starting\n",
      "Worker 1 starting\n",
      "Worker 3 starting\n",
      "Worker 1 done\n",
      "Worker 2 done\n",
      "Worker 4 done\n",
      "Worker 3 done\n",
      "Worker 5 done\n"
     ]
    }
   ],
   "source": [
    "var wg sync.WaitGroup\n",
    "for i := 1; i <= 5; i++ {\n",
    "    wg.Add(1)\n",
    "    go worker(i, &wg)\n",
    "}\n",
    "wg.Wait()"
   ]
  },
  {
   "cell_type": "code",
   "execution_count": null,
   "metadata": {},
   "outputs": [],
   "source": []
  }
 ],
 "metadata": {
  "kernelspec": {
   "display_name": "Go",
   "language": "go",
   "name": "gophernotes"
  },
  "language_info": {
   "codemirror_mode": "",
   "file_extension": ".go",
   "mimetype": "",
   "name": "go",
   "nbconvert_exporter": "",
   "pygments_lexer": "",
   "version": "go1.14.3"
  }
 },
 "nbformat": 4,
 "nbformat_minor": 4
}
