{
 "cells": [
  {
   "cell_type": "code",
   "execution_count": 1,
   "metadata": {},
   "outputs": [],
   "source": [
    "import (\n",
    "    \"fmt\"\n",
    "    \"math/rand\"\n",
    "    \"sync\"\n",
    "    \"sync/atomic\"\n",
    "    \"time\"\n",
    ")"
   ]
  },
  {
   "cell_type": "code",
   "execution_count": 2,
   "metadata": {},
   "outputs": [
    {
     "name": "stdout",
     "output_type": "stream",
     "text": [
      "readOps: 78127\n",
      "writeOps: 7805\n",
      "state: map[0:84 1:15 2:18 3:15 4:96]\n"
     ]
    }
   ],
   "source": [
    "var state = make(map[int]int)\n",
    "\n",
    "var mutex = &sync.Mutex{}\n",
    "\n",
    "var readOps uint64\n",
    "var writeOps uint64\n",
    "\n",
    "for r := 0; r < 100; r++ {\n",
    "    go func() {\n",
    "        total := 0\n",
    "        for {\n",
    "\n",
    "            key := rand.Intn(5)\n",
    "            mutex.Lock()\n",
    "            total += state[key]\n",
    "            mutex.Unlock()\n",
    "            atomic.AddUint64(&readOps, 1)\n",
    "\n",
    "            time.Sleep(time.Millisecond)\n",
    "        }\n",
    "    }()\n",
    "}\n",
    "\n",
    "for w := 0; w < 10; w++ {\n",
    "    go func() {\n",
    "        for {\n",
    "            key := rand.Intn(5)\n",
    "            val := rand.Intn(100)\n",
    "            mutex.Lock()\n",
    "            state[key] = val\n",
    "            mutex.Unlock()\n",
    "            atomic.AddUint64(&writeOps, 1)\n",
    "            time.Sleep(time.Millisecond)\n",
    "        }\n",
    "    }()\n",
    "}\n",
    "\n",
    "time.Sleep(time.Second)\n",
    "\n",
    "readOpsFinal := atomic.LoadUint64(&readOps)\n",
    "fmt.Println(\"readOps:\", readOpsFinal)\n",
    "writeOpsFinal := atomic.LoadUint64(&writeOps)\n",
    "fmt.Println(\"writeOps:\", writeOpsFinal)\n",
    "\n",
    "mutex.Lock()\n",
    "fmt.Println(\"state:\", state)\n",
    "mutex.Unlock()"
   ]
  },
  {
   "cell_type": "code",
   "execution_count": null,
   "metadata": {},
   "outputs": [],
   "source": []
  }
 ],
 "metadata": {
  "kernelspec": {
   "display_name": "Go",
   "language": "go",
   "name": "gophernotes"
  },
  "language_info": {
   "codemirror_mode": "",
   "file_extension": ".go",
   "mimetype": "",
   "name": "go",
   "nbconvert_exporter": "",
   "pygments_lexer": "",
   "version": "go1.14.3"
  }
 },
 "nbformat": 4,
 "nbformat_minor": 4
}
