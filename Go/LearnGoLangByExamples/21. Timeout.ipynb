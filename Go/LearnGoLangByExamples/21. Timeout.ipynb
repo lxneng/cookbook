{
 "cells": [
  {
   "cell_type": "code",
   "execution_count": 1,
   "metadata": {},
   "outputs": [],
   "source": [
    "import (\n",
    "    \"fmt\"\n",
    "    \"time\"\n",
    ")"
   ]
  },
  {
   "cell_type": "code",
   "execution_count": 4,
   "metadata": {},
   "outputs": [
    {
     "name": "stdout",
     "output_type": "stream",
     "text": [
      "timeout 1\n"
     ]
    }
   ],
   "source": [
    "c1 := make(chan string, 1)\n",
    "go func() {\n",
    "    time.Sleep(2 * time.Second)\n",
    "    c1 <- \"result 1\"\n",
    "}()\n",
    "\n",
    "select {\n",
    "case res := <-c1:\n",
    "    fmt.Println(res)\n",
    "case <-time.After(1 * time.Second):\n",
    "    fmt.Println(\"timeout 1\")\n",
    "}"
   ]
  },
  {
   "cell_type": "code",
   "execution_count": 5,
   "metadata": {},
   "outputs": [
    {
     "name": "stdout",
     "output_type": "stream",
     "text": [
      "result 2\n"
     ]
    }
   ],
   "source": [
    "c2 := make(chan string, 1)\n",
    "go func() {\n",
    "    time.Sleep(2 * time.Second)\n",
    "    c2 <- \"result 2\"\n",
    "}()\n",
    "select {\n",
    "case res := <-c2:\n",
    "    fmt.Println(res)\n",
    "case <-time.After(3 * time.Second):\n",
    "    fmt.Println(\"timeout 2\")\n",
    "}"
   ]
  },
  {
   "cell_type": "code",
   "execution_count": null,
   "metadata": {},
   "outputs": [],
   "source": []
  }
 ],
 "metadata": {
  "kernelspec": {
   "display_name": "Go",
   "language": "go",
   "name": "gophernotes"
  },
  "language_info": {
   "codemirror_mode": "",
   "file_extension": ".go",
   "mimetype": "",
   "name": "go",
   "nbconvert_exporter": "",
   "pygments_lexer": "",
   "version": "go1.14.3"
  }
 },
 "nbformat": 4,
 "nbformat_minor": 4
}
