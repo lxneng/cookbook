{
 "cells": [
  {
   "cell_type": "markdown",
   "metadata": {},
   "source": [
    "https://gobyexample-cn.github.io/rate-limiting"
   ]
  },
  {
   "cell_type": "code",
   "execution_count": 1,
   "metadata": {},
   "outputs": [],
   "source": [
    "import (\n",
    "    \"fmt\"\n",
    "    \"time\"\n",
    ")"
   ]
  },
  {
   "cell_type": "code",
   "execution_count": 2,
   "metadata": {},
   "outputs": [
    {
     "name": "stdout",
     "output_type": "stream",
     "text": [
      "request 1 2020-05-17 11:31:41.65233797 +0800 CST m=+158.716022302\n",
      "request 2 2020-05-17 11:31:41.85203956 +0800 CST m=+158.915723908\n",
      "request 3 2020-05-17 11:31:42.052072527 +0800 CST m=+159.115756869\n",
      "request 4 2020-05-17 11:31:42.252127073 +0800 CST m=+159.315811422\n",
      "request 5 2020-05-17 11:31:42.452255166 +0800 CST m=+159.515939589\n"
     ]
    }
   ],
   "source": [
    "requests := make(chan int, 5)\n",
    "for i := 1; i <= 5; i++ {\n",
    "    requests <- i\n",
    "}\n",
    "close(requests)\n",
    "\n",
    "limiter := time.Tick(200 * time.Millisecond)\n",
    "\n",
    "for req := range requests {\n",
    "    <-limiter\n",
    "    fmt.Println(\"request\", req, time.Now())\n",
    "}"
   ]
  },
  {
   "cell_type": "code",
   "execution_count": 3,
   "metadata": {},
   "outputs": [
    {
     "name": "stdout",
     "output_type": "stream",
     "text": [
      "request 1 2020-05-17 11:34:15.175794851 +0800 CST m=+312.239479079\n",
      "request 2 2020-05-17 11:34:15.175914133 +0800 CST m=+312.239598444\n",
      "request 3 2020-05-17 11:34:15.17599194 +0800 CST m=+312.239676215\n",
      "request 4 2020-05-17 11:34:15.376484728 +0800 CST m=+312.440169133\n",
      "request 5 2020-05-17 11:34:15.576415416 +0800 CST m=+312.640099762\n"
     ]
    }
   ],
   "source": [
    "burstyLimiter := make(chan time.Time, 3)\n",
    "\n",
    "for i := 0; i < 3; i++ {\n",
    "    burstyLimiter <- time.Now()\n",
    "}\n",
    "\n",
    "go func() {\n",
    "    for t := range time.Tick(200 * time.Millisecond) {\n",
    "        burstyLimiter <- t\n",
    "    }\n",
    "}()\n",
    "\n",
    "burstyRequests := make(chan int, 5)\n",
    "for i := 1; i <= 5; i++ {\n",
    "    burstyRequests <- i\n",
    "}\n",
    "close(burstyRequests)\n",
    "for req := range burstyRequests {\n",
    "    <-burstyLimiter\n",
    "    fmt.Println(\"request\", req, time.Now())\n",
    "}"
   ]
  },
  {
   "cell_type": "code",
   "execution_count": null,
   "metadata": {},
   "outputs": [],
   "source": []
  }
 ],
 "metadata": {
  "kernelspec": {
   "display_name": "Go",
   "language": "go",
   "name": "gophernotes"
  },
  "language_info": {
   "codemirror_mode": "",
   "file_extension": ".go",
   "mimetype": "",
   "name": "go",
   "nbconvert_exporter": "",
   "pygments_lexer": "",
   "version": "go1.14.3"
  }
 },
 "nbformat": 4,
 "nbformat_minor": 4
}
