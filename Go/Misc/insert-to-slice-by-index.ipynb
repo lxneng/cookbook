{
 "cells": [
  {
   "cell_type": "code",
   "execution_count": 1,
   "metadata": {},
   "outputs": [],
   "source": [
    "func insertToSliceByIndex(a []int, v int, i int) []int {\n",
    "    if len(a) == i { // nil or empty slice or after last element\n",
    "        return append(a, v)\n",
    "    }\n",
    "    return append(a[:i], append([]int{v}, a[i:]...)...)\n",
    "}"
   ]
  },
  {
   "cell_type": "code",
   "execution_count": 2,
   "metadata": {},
   "outputs": [
    {
     "data": {
      "text/plain": [
       "[10 20 30 40]"
      ]
     },
     "execution_count": 2,
     "metadata": {},
     "output_type": "execute_result"
    }
   ],
   "source": [
    "a := []int{10, 30, 40}\n",
    "a = insertToSliceByIndex(a, 20, 1)\n",
    "a"
   ]
  },
  {
   "cell_type": "code",
   "execution_count": null,
   "metadata": {},
   "outputs": [],
   "source": []
  }
 ],
 "metadata": {
  "kernelspec": {
   "display_name": "Go",
   "language": "go",
   "name": "gophernotes"
  },
  "language_info": {
   "codemirror_mode": "",
   "file_extension": ".go",
   "mimetype": "",
   "name": "go",
   "nbconvert_exporter": "",
   "pygments_lexer": "",
   "version": "go1.14.4"
  }
 },
 "nbformat": 4,
 "nbformat_minor": 4
}
