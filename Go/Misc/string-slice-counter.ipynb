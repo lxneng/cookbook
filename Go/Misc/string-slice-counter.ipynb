{
 "cells": [
  {
   "cell_type": "markdown",
   "metadata": {},
   "source": [
    "# string slice counter"
   ]
  },
  {
   "cell_type": "code",
   "execution_count": 1,
   "metadata": {},
   "outputs": [],
   "source": [
    "strs := []string{\"a\", \"a\", \"b\", \"c\", \"d\"} // ==> map[string]int{\"a\": 2, \"b\": 1, \"c\": 1, \"d\": 1}"
   ]
  },
  {
   "cell_type": "code",
   "execution_count": 2,
   "metadata": {},
   "outputs": [],
   "source": [
    "func StringsCounter(strs []string) map[string]int {\n",
    "    counts := make(map[string]int)\n",
    "    for _, el := range strs {\n",
    "        _, ok := counts[el]\n",
    "        if ok {\n",
    "            counts[el] += 1\n",
    "        } else {\n",
    "            counts[el] = 1\n",
    "        }\n",
    "    }\n",
    "    return counts\n",
    "}"
   ]
  },
  {
   "cell_type": "code",
   "execution_count": 3,
   "metadata": {},
   "outputs": [
    {
     "data": {
      "text/plain": [
       "map[a:2 b:1 c:1 d:1]"
      ]
     },
     "execution_count": 3,
     "metadata": {},
     "output_type": "execute_result"
    }
   ],
   "source": [
    "StringsCounter(strs)"
   ]
  },
  {
   "cell_type": "code",
   "execution_count": null,
   "metadata": {},
   "outputs": [],
   "source": []
  }
 ],
 "metadata": {
  "kernelspec": {
   "display_name": "Go",
   "language": "go",
   "name": "gophernotes"
  },
  "language_info": {
   "codemirror_mode": "",
   "file_extension": ".go",
   "mimetype": "",
   "name": "go",
   "nbconvert_exporter": "",
   "pygments_lexer": "",
   "version": "go1.13.6"
  }
 },
 "nbformat": 4,
 "nbformat_minor": 4
}
