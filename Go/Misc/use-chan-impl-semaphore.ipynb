{
 "cells": [
  {
   "cell_type": "code",
   "execution_count": 1,
   "metadata": {},
   "outputs": [],
   "source": [
    "import (\n",
    "    \"fmt\"\n",
    "    \"sync\"\n",
    "    \"time\"\n",
    ")"
   ]
  },
  {
   "cell_type": "code",
   "execution_count": 2,
   "metadata": {},
   "outputs": [
    {
     "name": "stdout",
     "output_type": "stream",
     "text": [
      "5 2020-05-26 16:23:33.844125725 +0800 CST m=+13.231674156\n",
      "9 2020-05-26 16:23:33.844143831 +0800 CST m=+13.231692375\n",
      "1 2020-05-26 16:23:35.844729058 +0800 CST m=+15.232277573\n",
      "4 2020-05-26 16:23:35.844731811 +0800 CST m=+15.232280317\n",
      "2 2020-05-26 16:23:37.845098 +0800 CST m=+17.232646443\n",
      "0 2020-05-26 16:23:37.845124599 +0800 CST m=+17.232673039\n",
      "6 2020-05-26 16:23:39.845549708 +0800 CST m=+19.233098222\n",
      "3 2020-05-26 16:23:39.845541064 +0800 CST m=+19.233089579\n",
      "7 2020-05-26 16:23:41.845955712 +0800 CST m=+21.233504168\n",
      "8 2020-05-26 16:23:41.846022366 +0800 CST m=+21.233570785\n"
     ]
    }
   ],
   "source": [
    "var wg sync.WaitGroup\n",
    "\n",
    "sem := make(chan struct{}, 2) // 最多允许2个并发同时执行\n",
    "taskNum := 10\n",
    "\n",
    "for i := 0; i < taskNum; i++ {\n",
    "    wg.Add(1)\n",
    "\n",
    "    go func(id int) {\n",
    "        defer wg.Done()\n",
    "\n",
    "        sem <- struct{}{}        // 获取信号\n",
    "        defer func() { <-sem }() // 释放信号\n",
    "\n",
    "        // do something for task\n",
    "        time.Sleep(time.Second * 2)\n",
    "        fmt.Println(id, time.Now())\n",
    "    }(i)\n",
    "}\n",
    "wg.Wait()"
   ]
  },
  {
   "cell_type": "code",
   "execution_count": null,
   "metadata": {},
   "outputs": [],
   "source": []
  },
  {
   "cell_type": "code",
   "execution_count": null,
   "metadata": {},
   "outputs": [],
   "source": []
  }
 ],
 "metadata": {
  "kernelspec": {
   "display_name": "Go",
   "language": "go",
   "name": "gophernotes"
  },
  "language_info": {
   "codemirror_mode": "",
   "file_extension": ".go",
   "mimetype": "",
   "name": "go",
   "nbconvert_exporter": "",
   "pygments_lexer": "",
   "version": "go1.13.6"
  }
 },
 "nbformat": 4,
 "nbformat_minor": 4
}
