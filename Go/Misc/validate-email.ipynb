{
 "cells": [
  {
   "cell_type": "code",
   "execution_count": 1,
   "metadata": {},
   "outputs": [],
   "source": [
    "import (\n",
    "    \"fmt\"\n",
    "    \"regexp\"\n",
    ")"
   ]
  },
  {
   "cell_type": "code",
   "execution_count": 2,
   "metadata": {},
   "outputs": [
    {
     "name": "stdout",
     "output_type": "stream",
     "text": [
      "test@xxx.com is a valid email\n",
      "not a valid email\n"
     ]
    }
   ],
   "source": [
    "var emailRegex = regexp.MustCompile(\"^[a-zA-Z0-9.!#$%&'*+\\\\/=?^_`{|}~-]+@[a-zA-Z0-9](?:[a-zA-Z0-9-]{0,61}[a-zA-Z0-9])?(?:\\\\.[a-zA-Z0-9](?:[a-zA-Z0-9-]{0,61}[a-zA-Z0-9])?)*$\")\n",
    "\n",
    "// isEmailValid checks if the email provided passes the required structure and length.\n",
    "func isEmailValid(e string) bool {\n",
    "    if len(e) < 3 && len(e) > 254 {\n",
    "        return false\n",
    "    }\n",
    "    return emailRegex.MatchString(e)\n",
    "}\n",
    "\n",
    "\n",
    "// Valid example\n",
    "e := \"test@xxx.com\"\n",
    "if isEmailValid(e) {\n",
    "    fmt.Println(e + \" is a valid email\")\n",
    "}\n",
    "\n",
    "// Invalid example\n",
    "if !isEmailValid(\"just text\") {\n",
    "    fmt.Println(\"not a valid email\")\n",
    "}\n"
   ]
  },
  {
   "cell_type": "code",
   "execution_count": null,
   "metadata": {},
   "outputs": [],
   "source": []
  }
 ],
 "metadata": {
  "kernelspec": {
   "display_name": "Go",
   "language": "go",
   "name": "gophernotes"
  },
  "language_info": {
   "codemirror_mode": "",
   "file_extension": ".go",
   "mimetype": "",
   "name": "go",
   "nbconvert_exporter": "",
   "pygments_lexer": "",
   "version": "go1.14.4"
  }
 },
 "nbformat": 4,
 "nbformat_minor": 4
}
