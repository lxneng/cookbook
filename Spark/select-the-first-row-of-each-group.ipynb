{
 "cells": [
  {
   "cell_type": "markdown",
   "metadata": {},
   "source": [
    "# Select the first row of each group"
   ]
  },
  {
   "cell_type": "code",
   "execution_count": 1,
   "metadata": {},
   "outputs": [],
   "source": [
    "import org.apache.spark.sql.functions.{row_number, max, broadcast}\n",
    "import org.apache.spark.sql.expressions.Window"
   ]
  },
  {
   "cell_type": "code",
   "execution_count": 2,
   "metadata": {},
   "outputs": [
    {
     "name": "stdout",
     "output_type": "stream",
     "text": [
      "+----+--------+----------+\n",
      "|Hour|Category|TotalValue|\n",
      "+----+--------+----------+\n",
      "|   1|   cat67|      28.5|\n",
      "|   3|    cat8|      35.6|\n",
      "|   2|   cat56|      39.6|\n",
      "|   0|   cat26|      30.9|\n",
      "+----+--------+----------+\n",
      "\n"
     ]
    },
    {
     "data": {
      "text/plain": [
       "df = [Hour: int, Category: string ... 1 more field]\n",
       "w = org.apache.spark.sql.expressions.WindowSpec@3a0df976\n",
       "dfTop = [Hour: int, Category: string ... 1 more field]\n"
      ]
     },
     "metadata": {},
     "output_type": "display_data",
     "source": "user"
    },
    {
     "data": {
      "text/plain": [
       "[Hour: int, Category: string ... 1 more field]"
      ]
     },
     "execution_count": 2,
     "metadata": {},
     "output_type": "execute_result"
    }
   ],
   "source": [
    "val df = sc.parallelize(Seq(\n",
    "  (0,\"cat26\",30.9), (0,\"cat13\",22.1), (0,\"cat95\",19.6), (0,\"cat105\",1.3),\n",
    "  (1,\"cat67\",28.5), (1,\"cat4\",26.8), (1,\"cat13\",12.6), (1,\"cat23\",5.3),\n",
    "  (2,\"cat56\",39.6), (2,\"cat40\",29.7), (2,\"cat187\",27.9), (2,\"cat68\",9.8),\n",
    "  (3,\"cat8\",35.6))).toDF(\"Hour\", \"Category\", \"TotalValue\")\n",
    "\n",
    "val w = Window.partitionBy($\"hour\").orderBy($\"TotalValue\".desc)\n",
    "\n",
    "val dfTop = df.withColumn(\"rn\", row_number.over(w)).where($\"rn\" === 1).drop(\"rn\")\n",
    "\n",
    "dfTop.show"
   ]
  },
  {
   "cell_type": "markdown",
   "metadata": {},
   "source": [
    "## concat dfs"
   ]
  },
  {
   "cell_type": "code",
   "execution_count": 6,
   "metadata": {},
   "outputs": [
    {
     "data": {
      "text/plain": [
       "newDf = [Hour: int, Category: string ... 1 more field]\n"
      ]
     },
     "metadata": {},
     "output_type": "display_data",
     "source": "user"
    },
    {
     "data": {
      "text/plain": [
       "[Hour: int, Category: string ... 1 more field]"
      ]
     },
     "execution_count": 6,
     "metadata": {},
     "output_type": "execute_result"
    }
   ],
   "source": [
    "val newDf = df.union(df)"
   ]
  },
  {
   "cell_type": "code",
   "execution_count": 7,
   "metadata": {},
   "outputs": [
    {
     "data": {
      "text/plain": [
       "13"
      ]
     },
     "execution_count": 7,
     "metadata": {},
     "output_type": "execute_result"
    }
   ],
   "source": [
    "df.count()"
   ]
  },
  {
   "cell_type": "code",
   "execution_count": 8,
   "metadata": {},
   "outputs": [
    {
     "data": {
      "text/plain": [
       "26"
      ]
     },
     "execution_count": 8,
     "metadata": {},
     "output_type": "execute_result"
    }
   ],
   "source": [
    "newDf.count()"
   ]
  },
  {
   "cell_type": "code",
   "execution_count": null,
   "metadata": {},
   "outputs": [],
   "source": []
  }
 ],
 "metadata": {
  "kernelspec": {
   "display_name": "Apache Toree - Scala",
   "language": "scala",
   "name": "apache_toree_scala"
  },
  "language_info": {
   "codemirror_mode": "text/x-scala",
   "file_extension": ".scala",
   "mimetype": "text/x-scala",
   "name": "scala",
   "pygments_lexer": "scala",
   "version": "2.11.12"
  }
 },
 "nbformat": 4,
 "nbformat_minor": 4
}
