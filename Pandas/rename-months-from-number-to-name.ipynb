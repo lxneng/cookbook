{
 "cells": [
  {
   "cell_type": "markdown",
   "metadata": {},
   "source": [
    "## Renaming months from number to name in pandas"
   ]
  },
  {
   "cell_type": "code",
   "execution_count": 1,
   "metadata": {},
   "outputs": [],
   "source": [
    "import pandas as pd\n",
    "import numpy as np\n",
    "import calendar"
   ]
  },
  {
   "cell_type": "code",
   "execution_count": 2,
   "metadata": {},
   "outputs": [],
   "source": [
    "# Create dummy dataframe\n",
    "dateindx = pd.date_range('2020-05-01', '2020-05-31', freq='D')\n",
    "\n",
    "df = pd.DataFrame(np.random.randint(0,1000, (len(dateindx), 5)), \n",
    "             index=pd.MultiIndex.from_arrays([dateindx.month, dateindx.day]),\n",
    "             columns=['High', 'Low','Open', 'Close','Volume'])\n",
    "\n",
    "# Use calendar library for abbreviations and order\n",
    "dd=dict((enumerate(calendar.month_abbr)))\n",
    "\n",
    "# rename level zero of multiindex\n",
    "df = df.rename(index=dd,level=0)\n",
    "\n",
    "# Create calendar month data type with order for sorting\n",
    "cal_dtype = pd.CategoricalDtype(list(calendar.month_abbr), ordered=True)\n",
    "\n",
    "# Change the dtype of the level zero index\n",
    "df.index = df.index.set_levels(df.index.levels[0].astype(cal_dtype), level=0)"
   ]
  },
  {
   "cell_type": "code",
   "execution_count": 3,
   "metadata": {},
   "outputs": [
    {
     "data": {
      "text/html": [
       "<div>\n",
       "<style scoped>\n",
       "    .dataframe tbody tr th:only-of-type {\n",
       "        vertical-align: middle;\n",
       "    }\n",
       "\n",
       "    .dataframe tbody tr th {\n",
       "        vertical-align: top;\n",
       "    }\n",
       "\n",
       "    .dataframe thead th {\n",
       "        text-align: right;\n",
       "    }\n",
       "</style>\n",
       "<table border=\"1\" class=\"dataframe\">\n",
       "  <thead>\n",
       "    <tr style=\"text-align: right;\">\n",
       "      <th></th>\n",
       "      <th></th>\n",
       "      <th>High</th>\n",
       "      <th>Low</th>\n",
       "      <th>Open</th>\n",
       "      <th>Close</th>\n",
       "      <th>Volume</th>\n",
       "    </tr>\n",
       "  </thead>\n",
       "  <tbody>\n",
       "    <tr>\n",
       "      <th rowspan=\"5\" valign=\"top\">May</th>\n",
       "      <th>1</th>\n",
       "      <td>29</td>\n",
       "      <td>338</td>\n",
       "      <td>797</td>\n",
       "      <td>688</td>\n",
       "      <td>569</td>\n",
       "    </tr>\n",
       "    <tr>\n",
       "      <th>2</th>\n",
       "      <td>13</td>\n",
       "      <td>850</td>\n",
       "      <td>291</td>\n",
       "      <td>25</td>\n",
       "      <td>567</td>\n",
       "    </tr>\n",
       "    <tr>\n",
       "      <th>3</th>\n",
       "      <td>162</td>\n",
       "      <td>248</td>\n",
       "      <td>168</td>\n",
       "      <td>842</td>\n",
       "      <td>4</td>\n",
       "    </tr>\n",
       "    <tr>\n",
       "      <th>4</th>\n",
       "      <td>343</td>\n",
       "      <td>38</td>\n",
       "      <td>57</td>\n",
       "      <td>728</td>\n",
       "      <td>406</td>\n",
       "    </tr>\n",
       "    <tr>\n",
       "      <th>5</th>\n",
       "      <td>161</td>\n",
       "      <td>582</td>\n",
       "      <td>89</td>\n",
       "      <td>14</td>\n",
       "      <td>963</td>\n",
       "    </tr>\n",
       "  </tbody>\n",
       "</table>\n",
       "</div>"
      ],
      "text/plain": [
       "       High  Low  Open  Close  Volume\n",
       "May 1    29  338   797    688     569\n",
       "    2    13  850   291     25     567\n",
       "    3   162  248   168    842       4\n",
       "    4   343   38    57    728     406\n",
       "    5   161  582    89     14     963"
      ]
     },
     "execution_count": 3,
     "metadata": {},
     "output_type": "execute_result"
    }
   ],
   "source": [
    "df.head()"
   ]
  },
  {
   "cell_type": "code",
   "execution_count": null,
   "metadata": {},
   "outputs": [],
   "source": []
  }
 ],
 "metadata": {
  "kernelspec": {
   "display_name": "Python 3",
   "language": "python",
   "name": "python3"
  },
  "language_info": {
   "codemirror_mode": {
    "name": "ipython",
    "version": 3
   },
   "file_extension": ".py",
   "mimetype": "text/x-python",
   "name": "python",
   "nbconvert_exporter": "python",
   "pygments_lexer": "ipython3",
   "version": "3.7.7"
  }
 },
 "nbformat": 4,
 "nbformat_minor": 4
}
