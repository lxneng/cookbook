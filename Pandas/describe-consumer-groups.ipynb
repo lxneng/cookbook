{
 "cells": [
  {
   "cell_type": "code",
   "execution_count": 1,
   "metadata": {},
   "outputs": [],
   "source": [
    "from kafka import KafkaAdminClient\n",
    "from kafka.protocol.group import MemberAssignment\n",
    "from kafka import KafkaConsumer, TopicPartition\n",
    "import pandas as pd"
   ]
  },
  {
   "cell_type": "code",
   "execution_count": 2,
   "metadata": {},
   "outputs": [],
   "source": [
    "group_id = 'reco-worker-oplog'\n",
    "topic = 'oplog'"
   ]
  },
  {
   "cell_type": "code",
   "execution_count": null,
   "metadata": {},
   "outputs": [],
   "source": [
    "result = []\n",
    "bootstrap_servers=[f'cdh-work-0{i:02}:9092' for i in range(1, 11)]\n",
    "admin_client = KafkaAdminClient(bootstrap_servers=bootstrap_servers)\n",
    "consumer = KafkaConsumer(topic,\n",
    "                         bootstrap_servers=bootstrap_servers,\n",
    "                         group_id=group_id)\n",
    "for member in admin_client.describe_consumer_groups([group_id])[0][5]:\n",
    "    for data in MemberAssignment.decode(member[4]).assignment:\n",
    "        topic = data[0]\n",
    "        parts = data[1]\n",
    "        for part in parts:\n",
    "            topart = TopicPartition(topic, part)\n",
    "            last_offsets = consumer.end_offsets([topart])\n",
    "            committed = consumer.committed(topart)\n",
    "            if last_offsets is not None and committed is not None:\n",
    "                offset = last_offsets.get(topart)\n",
    "                lag = offset - committed\n",
    "                result.append({\n",
    "                    'topic': topic,\n",
    "                    'group': group_id,\n",
    "                    'partition': part,\n",
    "                    'committed': committed,\n",
    "                    'current_offset': offset,\n",
    "                    'lag': lag\n",
    "                })"
   ]
  },
  {
   "cell_type": "code",
   "execution_count": null,
   "metadata": {},
   "outputs": [],
   "source": [
    "df = pd.DataFrame(result)\n",
    "display(df.head())\n",
    "display(df[['lag']].describe())"
   ]
  }
 ],
 "metadata": {
  "kernelspec": {
   "display_name": "Python 3",
   "language": "python",
   "name": "python3"
  },
  "language_info": {
   "codemirror_mode": {
    "name": "ipython",
    "version": 3
   },
   "file_extension": ".py",
   "mimetype": "text/x-python",
   "name": "python",
   "nbconvert_exporter": "python",
   "pygments_lexer": "ipython3",
   "version": "3.7.7"
  }
 },
 "nbformat": 4,
 "nbformat_minor": 4
}
