{
 "cells": [
  {
   "cell_type": "code",
   "execution_count": 1,
   "metadata": {},
   "outputs": [],
   "source": [
    "import findspark\n",
    "findspark.init()"
   ]
  },
  {
   "cell_type": "code",
   "execution_count": 2,
   "metadata": {},
   "outputs": [],
   "source": [
    "from pyspark.sql import SparkSession"
   ]
  },
  {
   "cell_type": "code",
   "execution_count": 3,
   "metadata": {},
   "outputs": [],
   "source": [
    "from pyspark.sql.window import Window\n",
    "from pyspark.sql.functions import rank, col"
   ]
  },
  {
   "cell_type": "code",
   "execution_count": 4,
   "metadata": {},
   "outputs": [],
   "source": [
    "spark = (SparkSession\n",
    "    .builder\n",
    "    .appName(\"Demo\")\n",
    "    .getOrCreate())"
   ]
  },
  {
   "cell_type": "code",
   "execution_count": 6,
   "metadata": {},
   "outputs": [],
   "source": [
    "sc = spark.sparkContext"
   ]
  },
  {
   "cell_type": "code",
   "execution_count": 12,
   "metadata": {},
   "outputs": [],
   "source": [
    "rdd = sc.parallelize([(0,\"cat26\",30.9), (0,\"cat13\",22.1), (0,\"cat95\",19.6), (0,\"cat105\",1.3),\n",
    "  (1,\"cat67\",28.5), (1,\"cat4\",26.8), (1,\"cat13\",12.6), (1,\"cat23\",5.3),\n",
    "  (2,\"cat56\",39.6), (2,\"cat40\",29.7), (2,\"cat187\",27.9), (2,\"cat68\",9.8),\n",
    "  (3,\"cat8\",35.6)])\n",
    "df = spark.createDataFrame(rdd, [\"Hour\", \"Category\", \"TotalValue\"])"
   ]
  },
  {
   "cell_type": "code",
   "execution_count": 13,
   "metadata": {},
   "outputs": [
    {
     "name": "stdout",
     "output_type": "stream",
     "text": [
      "+----+--------+----------+\n",
      "|Hour|Category|TotalValue|\n",
      "+----+--------+----------+\n",
      "|   0|   cat26|      30.9|\n",
      "|   0|   cat13|      22.1|\n",
      "|   0|   cat95|      19.6|\n",
      "|   0|  cat105|       1.3|\n",
      "|   1|   cat67|      28.5|\n",
      "|   1|    cat4|      26.8|\n",
      "|   1|   cat13|      12.6|\n",
      "|   1|   cat23|       5.3|\n",
      "|   2|   cat56|      39.6|\n",
      "|   2|   cat40|      29.7|\n",
      "|   2|  cat187|      27.9|\n",
      "|   2|   cat68|       9.8|\n",
      "|   3|    cat8|      35.6|\n",
      "+----+--------+----------+\n",
      "\n"
     ]
    }
   ],
   "source": [
    "df.show()"
   ]
  },
  {
   "cell_type": "code",
   "execution_count": 16,
   "metadata": {},
   "outputs": [
    {
     "name": "stdout",
     "output_type": "stream",
     "text": [
      "+----+--------+----------+----+\n",
      "|Hour|Category|TotalValue|rank|\n",
      "+----+--------+----------+----+\n",
      "|   0|   cat26|      30.9|   1|\n",
      "|   1|   cat67|      28.5|   1|\n",
      "|   3|    cat8|      35.6|   1|\n",
      "|   2|   cat56|      39.6|   1|\n",
      "+----+--------+----------+----+\n",
      "\n"
     ]
    }
   ],
   "source": [
    "window = Window.partitionBy(df['Hour']).orderBy(df['TotalValue'].desc())\n",
    "\n",
    "(df.select('*', rank().over(window).alias('rank')) \n",
    "  .filter(col('rank') == 1) \n",
    "  .show())"
   ]
  },
  {
   "cell_type": "code",
   "execution_count": null,
   "metadata": {},
   "outputs": [],
   "source": []
  }
 ],
 "metadata": {
  "kernelspec": {
   "display_name": "Python 3",
   "language": "python",
   "name": "python3"
  },
  "language_info": {
   "codemirror_mode": {
    "name": "ipython",
    "version": 3
   },
   "file_extension": ".py",
   "mimetype": "text/x-python",
   "name": "python",
   "nbconvert_exporter": "python",
   "pygments_lexer": "ipython3",
   "version": "3.7.7"
  }
 },
 "nbformat": 4,
 "nbformat_minor": 4
}
