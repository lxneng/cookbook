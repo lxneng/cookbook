{
 "cells": [
  {
   "cell_type": "code",
   "execution_count": 1,
   "metadata": {},
   "outputs": [],
   "source": [
    "import findspark\n",
    "findspark.init()"
   ]
  },
  {
   "cell_type": "code",
   "execution_count": 2,
   "metadata": {},
   "outputs": [],
   "source": [
    "import pandas as pd\n",
    "from pyspark.sql import SparkSession"
   ]
  },
  {
   "cell_type": "markdown",
   "metadata": {},
   "source": [
    "load by pandas"
   ]
  },
  {
   "cell_type": "code",
   "execution_count": 3,
   "metadata": {},
   "outputs": [
    {
     "data": {
      "text/html": [
       "<div>\n",
       "<style scoped>\n",
       "    .dataframe tbody tr th:only-of-type {\n",
       "        vertical-align: middle;\n",
       "    }\n",
       "\n",
       "    .dataframe tbody tr th {\n",
       "        vertical-align: top;\n",
       "    }\n",
       "\n",
       "    .dataframe thead th {\n",
       "        text-align: right;\n",
       "    }\n",
       "</style>\n",
       "<table border=\"1\" class=\"dataframe\">\n",
       "  <thead>\n",
       "    <tr style=\"text-align: right;\">\n",
       "      <th></th>\n",
       "      <th>RATING_ID</th>\n",
       "      <th>USER_MD5</th>\n",
       "      <th>MOVIE_ID</th>\n",
       "      <th>RATING</th>\n",
       "      <th>RATING_TIME</th>\n",
       "    </tr>\n",
       "  </thead>\n",
       "  <tbody>\n",
       "    <tr>\n",
       "      <th>0</th>\n",
       "      <td>1359352573</td>\n",
       "      <td>0ab7e3efacd56983f16503572d2b9915</td>\n",
       "      <td>5113101</td>\n",
       "      <td>2</td>\n",
       "      <td>2018-09-05 19:42:07</td>\n",
       "    </tr>\n",
       "    <tr>\n",
       "      <th>1</th>\n",
       "      <td>1598245094</td>\n",
       "      <td>84dfd3f91dd85ea105bc74a4f0d7a067</td>\n",
       "      <td>5113101</td>\n",
       "      <td>1</td>\n",
       "      <td>2019-07-09 14:52:07</td>\n",
       "    </tr>\n",
       "    <tr>\n",
       "      <th>2</th>\n",
       "      <td>311937819</td>\n",
       "      <td>c9a47fd59b55967ceac07cac6d5f270c</td>\n",
       "      <td>3718526</td>\n",
       "      <td>3</td>\n",
       "      <td>2010-11-05 22:15:44</td>\n",
       "    </tr>\n",
       "    <tr>\n",
       "      <th>3</th>\n",
       "      <td>457663846</td>\n",
       "      <td>18cbf971bdf17336056674bb8fad7ea2</td>\n",
       "      <td>3718526</td>\n",
       "      <td>4</td>\n",
       "      <td>2011-11-14 22:31:02</td>\n",
       "    </tr>\n",
       "    <tr>\n",
       "      <th>4</th>\n",
       "      <td>313277849</td>\n",
       "      <td>47e69de0d68e6a4db159bc29301caece</td>\n",
       "      <td>3718526</td>\n",
       "      <td>4</td>\n",
       "      <td>2010-11-09 12:41:11</td>\n",
       "    </tr>\n",
       "  </tbody>\n",
       "</table>\n",
       "</div>"
      ],
      "text/plain": [
       "    RATING_ID                          USER_MD5  MOVIE_ID  RATING  \\\n",
       "0  1359352573  0ab7e3efacd56983f16503572d2b9915   5113101       2   \n",
       "1  1598245094  84dfd3f91dd85ea105bc74a4f0d7a067   5113101       1   \n",
       "2   311937819  c9a47fd59b55967ceac07cac6d5f270c   3718526       3   \n",
       "3   457663846  18cbf971bdf17336056674bb8fad7ea2   3718526       4   \n",
       "4   313277849  47e69de0d68e6a4db159bc29301caece   3718526       4   \n",
       "\n",
       "           RATING_TIME  \n",
       "0  2018-09-05 19:42:07  \n",
       "1  2019-07-09 14:52:07  \n",
       "2  2010-11-05 22:15:44  \n",
       "3  2011-11-14 22:31:02  \n",
       "4  2010-11-09 12:41:11  "
      ]
     },
     "execution_count": 3,
     "metadata": {},
     "output_type": "execute_result"
    }
   ],
   "source": [
    "df = pd.read_csv('/home/eric/Sync/datasets/moviedata/moviedata-lite/ratings.csv')\n",
    "df.head()"
   ]
  },
  {
   "cell_type": "markdown",
   "metadata": {},
   "source": [
    "write to parquet"
   ]
  },
  {
   "cell_type": "code",
   "execution_count": 4,
   "metadata": {},
   "outputs": [],
   "source": [
    "df.to_parquet('/tmp/ratings.parquet')"
   ]
  },
  {
   "cell_type": "code",
   "execution_count": 5,
   "metadata": {},
   "outputs": [
    {
     "name": "stdout",
     "output_type": "stream",
     "text": [
      "/tmp/ratings.parquet\n"
     ]
    }
   ],
   "source": [
    "!ls /tmp/ratings*"
   ]
  },
  {
   "cell_type": "markdown",
   "metadata": {},
   "source": [
    "read back by pandas"
   ]
  },
  {
   "cell_type": "code",
   "execution_count": 6,
   "metadata": {},
   "outputs": [
    {
     "data": {
      "text/html": [
       "<div>\n",
       "<style scoped>\n",
       "    .dataframe tbody tr th:only-of-type {\n",
       "        vertical-align: middle;\n",
       "    }\n",
       "\n",
       "    .dataframe tbody tr th {\n",
       "        vertical-align: top;\n",
       "    }\n",
       "\n",
       "    .dataframe thead th {\n",
       "        text-align: right;\n",
       "    }\n",
       "</style>\n",
       "<table border=\"1\" class=\"dataframe\">\n",
       "  <thead>\n",
       "    <tr style=\"text-align: right;\">\n",
       "      <th></th>\n",
       "      <th>RATING_ID</th>\n",
       "      <th>USER_MD5</th>\n",
       "      <th>MOVIE_ID</th>\n",
       "      <th>RATING</th>\n",
       "      <th>RATING_TIME</th>\n",
       "    </tr>\n",
       "  </thead>\n",
       "  <tbody>\n",
       "    <tr>\n",
       "      <th>0</th>\n",
       "      <td>1359352573</td>\n",
       "      <td>0ab7e3efacd56983f16503572d2b9915</td>\n",
       "      <td>5113101</td>\n",
       "      <td>2</td>\n",
       "      <td>2018-09-05 19:42:07</td>\n",
       "    </tr>\n",
       "    <tr>\n",
       "      <th>1</th>\n",
       "      <td>1598245094</td>\n",
       "      <td>84dfd3f91dd85ea105bc74a4f0d7a067</td>\n",
       "      <td>5113101</td>\n",
       "      <td>1</td>\n",
       "      <td>2019-07-09 14:52:07</td>\n",
       "    </tr>\n",
       "    <tr>\n",
       "      <th>2</th>\n",
       "      <td>311937819</td>\n",
       "      <td>c9a47fd59b55967ceac07cac6d5f270c</td>\n",
       "      <td>3718526</td>\n",
       "      <td>3</td>\n",
       "      <td>2010-11-05 22:15:44</td>\n",
       "    </tr>\n",
       "    <tr>\n",
       "      <th>3</th>\n",
       "      <td>457663846</td>\n",
       "      <td>18cbf971bdf17336056674bb8fad7ea2</td>\n",
       "      <td>3718526</td>\n",
       "      <td>4</td>\n",
       "      <td>2011-11-14 22:31:02</td>\n",
       "    </tr>\n",
       "    <tr>\n",
       "      <th>4</th>\n",
       "      <td>313277849</td>\n",
       "      <td>47e69de0d68e6a4db159bc29301caece</td>\n",
       "      <td>3718526</td>\n",
       "      <td>4</td>\n",
       "      <td>2010-11-09 12:41:11</td>\n",
       "    </tr>\n",
       "  </tbody>\n",
       "</table>\n",
       "</div>"
      ],
      "text/plain": [
       "    RATING_ID                          USER_MD5  MOVIE_ID  RATING  \\\n",
       "0  1359352573  0ab7e3efacd56983f16503572d2b9915   5113101       2   \n",
       "1  1598245094  84dfd3f91dd85ea105bc74a4f0d7a067   5113101       1   \n",
       "2   311937819  c9a47fd59b55967ceac07cac6d5f270c   3718526       3   \n",
       "3   457663846  18cbf971bdf17336056674bb8fad7ea2   3718526       4   \n",
       "4   313277849  47e69de0d68e6a4db159bc29301caece   3718526       4   \n",
       "\n",
       "           RATING_TIME  \n",
       "0  2018-09-05 19:42:07  \n",
       "1  2019-07-09 14:52:07  \n",
       "2  2010-11-05 22:15:44  \n",
       "3  2011-11-14 22:31:02  \n",
       "4  2010-11-09 12:41:11  "
      ]
     },
     "execution_count": 6,
     "metadata": {},
     "output_type": "execute_result"
    }
   ],
   "source": [
    "pd.read_parquet('/tmp/ratings.parquet').head()"
   ]
  },
  {
   "cell_type": "markdown",
   "metadata": {},
   "source": [
    "PySpark"
   ]
  },
  {
   "cell_type": "code",
   "execution_count": 7,
   "metadata": {},
   "outputs": [],
   "source": [
    "spark = (SparkSession\n",
    "    .builder\n",
    "    .appName(\"pyspark-pandas-koalas\")\n",
    "    .getOrCreate())"
   ]
  },
  {
   "cell_type": "code",
   "execution_count": 8,
   "metadata": {},
   "outputs": [],
   "source": [
    "df = spark.read.csv('/home/eric/Sync/datasets/moviedata/moviedata-lite/ratings.csv', header=True)\n",
    "df.repartition(1).write.mode('overwrite').parquet('/tmp/pyspark_ratings')"
   ]
  },
  {
   "cell_type": "code",
   "execution_count": 9,
   "metadata": {},
   "outputs": [
    {
     "name": "stdout",
     "output_type": "stream",
     "text": [
      "+----------+--------------------+--------+------+-------------------+\n",
      "| RATING_ID|            USER_MD5|MOVIE_ID|RATING|        RATING_TIME|\n",
      "+----------+--------------------+--------+------+-------------------+\n",
      "|1359352573|0ab7e3efacd56983f...| 5113101|     2|2018-09-05 19:42:07|\n",
      "|1598245094|84dfd3f91dd85ea10...| 5113101|     1|2019-07-09 14:52:07|\n",
      "| 311937819|c9a47fd59b55967ce...| 3718526|     3|2010-11-05 22:15:44|\n",
      "| 457663846|18cbf971bdf173360...| 3718526|     4|2011-11-14 22:31:02|\n",
      "| 313277849|47e69de0d68e6a4db...| 3718526|     4|2010-11-09 12:41:11|\n",
      "| 798211658|86dd268419a025131...|10514820|     3|2014-04-19 01:30:48|\n",
      "| 582827065|93ce30280bf1b1160...|10514820|     3|2012-09-22 12:52:36|\n",
      "| 247354289|946c40119cf6ac3f9...| 4824996|     4|2010-05-04 13:02:36|\n",
      "| 560603476|c98155000a3420758...| 4824996|     5|2012-07-25 22:03:32|\n",
      "| 345508641|bd3ba3fc3a4f3c925...| 4824996|     5|2011-01-26 17:18:50|\n",
      "| 919041772|e4e41a7765b5fe37b...|10514820|     2|2015-05-04 17:23:24|\n",
      "| 665120053|7a48f067cb5c3ef98...|10514820|     1|2013-04-10 00:42:31|\n",
      "| 668385831|5c4a77c60e97a1dd0...|10514820|     4|2013-04-17 12:19:50|\n",
      "|1210679231|b3e4ac4a79a0b996d...|10514820|     1|2017-07-03 22:44:31|\n",
      "| 839010140|61c3fef0c1734144b...|10514820|     3|2014-08-23 11:03:09|\n",
      "| 397264579|1ab2413c7fc9c8dde...| 4824996|     5|2011-05-31 02:40:45|\n",
      "| 269452462|05305f812f7fb658b...| 4824996|     5|2010-07-11 12:09:08|\n",
      "| 266767555|f70064710785fe85f...| 4824996|     5|2010-07-03 13:20:46|\n",
      "| 409235560|1d0010c5c5690b5ed...| 4824996|     5|2011-07-01 17:28:36|\n",
      "| 456999211|e7b5be1c1545909c8...| 4824996|     4|2011-11-13 10:41:25|\n",
      "+----------+--------------------+--------+------+-------------------+\n",
      "only showing top 20 rows\n",
      "\n"
     ]
    }
   ],
   "source": [
    "df.show()"
   ]
  },
  {
   "cell_type": "code",
   "execution_count": 10,
   "metadata": {},
   "outputs": [
    {
     "name": "stdout",
     "output_type": "stream",
     "text": [
      "total 72\n",
      "drwxrwxr-x  2 eric eric  4096 May  7 11:24 .\n",
      "drwxrwxrwt 31 root root  4096 May  7 11:24 ..\n",
      "-rw-r--r--  1 eric eric 55326 May  7 11:24 part-00000-f173425e-6b50-4327-8907-b8aed0b3863a-c000.snappy.parquet\n",
      "-rw-r--r--  1 eric eric   444 May  7 11:24 .part-00000-f173425e-6b50-4327-8907-b8aed0b3863a-c000.snappy.parquet.crc\n",
      "-rw-r--r--  1 eric eric     0 May  7 11:24 _SUCCESS\n",
      "-rw-r--r--  1 eric eric     8 May  7 11:24 ._SUCCESS.crc\n"
     ]
    }
   ],
   "source": [
    "!ls /tmp/pyspark_ratings -al"
   ]
  },
  {
   "cell_type": "markdown",
   "metadata": {},
   "source": [
    "read back"
   ]
  },
  {
   "cell_type": "code",
   "execution_count": 11,
   "metadata": {},
   "outputs": [
    {
     "name": "stdout",
     "output_type": "stream",
     "text": [
      "+----------+--------------------+--------+------+-------------------+\n",
      "| RATING_ID|            USER_MD5|MOVIE_ID|RATING|        RATING_TIME|\n",
      "+----------+--------------------+--------+------+-------------------+\n",
      "|1359352573|0ab7e3efacd56983f...| 5113101|     2|2018-09-05 19:42:07|\n",
      "|1598245094|84dfd3f91dd85ea10...| 5113101|     1|2019-07-09 14:52:07|\n",
      "| 311937819|c9a47fd59b55967ce...| 3718526|     3|2010-11-05 22:15:44|\n",
      "+----------+--------------------+--------+------+-------------------+\n",
      "only showing top 3 rows\n",
      "\n"
     ]
    }
   ],
   "source": [
    "df = spark.read.parquet('/tmp/pyspark_ratings')\n",
    "df.show(3)"
   ]
  },
  {
   "cell_type": "code",
   "execution_count": 12,
   "metadata": {},
   "outputs": [
    {
     "data": {
      "text/html": [
       "<div>\n",
       "<style scoped>\n",
       "    .dataframe tbody tr th:only-of-type {\n",
       "        vertical-align: middle;\n",
       "    }\n",
       "\n",
       "    .dataframe tbody tr th {\n",
       "        vertical-align: top;\n",
       "    }\n",
       "\n",
       "    .dataframe thead th {\n",
       "        text-align: right;\n",
       "    }\n",
       "</style>\n",
       "<table border=\"1\" class=\"dataframe\">\n",
       "  <thead>\n",
       "    <tr style=\"text-align: right;\">\n",
       "      <th></th>\n",
       "      <th>RATING_ID</th>\n",
       "      <th>USER_MD5</th>\n",
       "      <th>MOVIE_ID</th>\n",
       "      <th>RATING</th>\n",
       "      <th>RATING_TIME</th>\n",
       "    </tr>\n",
       "  </thead>\n",
       "  <tbody>\n",
       "    <tr>\n",
       "      <th>0</th>\n",
       "      <td>1359352573</td>\n",
       "      <td>0ab7e3efacd56983f16503572d2b9915</td>\n",
       "      <td>5113101</td>\n",
       "      <td>2</td>\n",
       "      <td>2018-09-05 19:42:07</td>\n",
       "    </tr>\n",
       "    <tr>\n",
       "      <th>1</th>\n",
       "      <td>1598245094</td>\n",
       "      <td>84dfd3f91dd85ea105bc74a4f0d7a067</td>\n",
       "      <td>5113101</td>\n",
       "      <td>1</td>\n",
       "      <td>2019-07-09 14:52:07</td>\n",
       "    </tr>\n",
       "    <tr>\n",
       "      <th>2</th>\n",
       "      <td>311937819</td>\n",
       "      <td>c9a47fd59b55967ceac07cac6d5f270c</td>\n",
       "      <td>3718526</td>\n",
       "      <td>3</td>\n",
       "      <td>2010-11-05 22:15:44</td>\n",
       "    </tr>\n",
       "  </tbody>\n",
       "</table>\n",
       "</div>"
      ],
      "text/plain": [
       "    RATING_ID                          USER_MD5 MOVIE_ID RATING  \\\n",
       "0  1359352573  0ab7e3efacd56983f16503572d2b9915  5113101      2   \n",
       "1  1598245094  84dfd3f91dd85ea105bc74a4f0d7a067  5113101      1   \n",
       "2   311937819  c9a47fd59b55967ceac07cac6d5f270c  3718526      3   \n",
       "\n",
       "           RATING_TIME  \n",
       "0  2018-09-05 19:42:07  \n",
       "1  2019-07-09 14:52:07  \n",
       "2  2010-11-05 22:15:44  "
      ]
     },
     "execution_count": 12,
     "metadata": {},
     "output_type": "execute_result"
    }
   ],
   "source": [
    "pd.read_parquet('/tmp/pyspark_ratings').head(3)"
   ]
  },
  {
   "cell_type": "markdown",
   "metadata": {},
   "source": [
    "koalas"
   ]
  },
  {
   "cell_type": "code",
   "execution_count": 13,
   "metadata": {},
   "outputs": [],
   "source": [
    "import databricks.koalas as ks"
   ]
  },
  {
   "cell_type": "code",
   "execution_count": 14,
   "metadata": {},
   "outputs": [
    {
     "data": {
      "text/html": [
       "<div>\n",
       "<style scoped>\n",
       "    .dataframe tbody tr th:only-of-type {\n",
       "        vertical-align: middle;\n",
       "    }\n",
       "\n",
       "    .dataframe tbody tr th {\n",
       "        vertical-align: top;\n",
       "    }\n",
       "\n",
       "    .dataframe thead th {\n",
       "        text-align: right;\n",
       "    }\n",
       "</style>\n",
       "<table border=\"1\" class=\"dataframe\">\n",
       "  <thead>\n",
       "    <tr style=\"text-align: right;\">\n",
       "      <th></th>\n",
       "      <th>RATING_ID</th>\n",
       "      <th>USER_MD5</th>\n",
       "      <th>MOVIE_ID</th>\n",
       "      <th>RATING</th>\n",
       "      <th>RATING_TIME</th>\n",
       "    </tr>\n",
       "  </thead>\n",
       "  <tbody>\n",
       "    <tr>\n",
       "      <th>0</th>\n",
       "      <td>1359352573</td>\n",
       "      <td>0ab7e3efacd56983f16503572d2b9915</td>\n",
       "      <td>5113101</td>\n",
       "      <td>2</td>\n",
       "      <td>2018-09-05 19:42:07</td>\n",
       "    </tr>\n",
       "    <tr>\n",
       "      <th>1</th>\n",
       "      <td>1598245094</td>\n",
       "      <td>84dfd3f91dd85ea105bc74a4f0d7a067</td>\n",
       "      <td>5113101</td>\n",
       "      <td>1</td>\n",
       "      <td>2019-07-09 14:52:07</td>\n",
       "    </tr>\n",
       "    <tr>\n",
       "      <th>2</th>\n",
       "      <td>311937819</td>\n",
       "      <td>c9a47fd59b55967ceac07cac6d5f270c</td>\n",
       "      <td>3718526</td>\n",
       "      <td>3</td>\n",
       "      <td>2010-11-05 22:15:44</td>\n",
       "    </tr>\n",
       "  </tbody>\n",
       "</table>\n",
       "</div>"
      ],
      "text/plain": [
       "    RATING_ID                          USER_MD5  MOVIE_ID  RATING         RATING_TIME\n",
       "0  1359352573  0ab7e3efacd56983f16503572d2b9915   5113101       2 2018-09-05 19:42:07\n",
       "1  1598245094  84dfd3f91dd85ea105bc74a4f0d7a067   5113101       1 2019-07-09 14:52:07\n",
       "2   311937819  c9a47fd59b55967ceac07cac6d5f270c   3718526       3 2010-11-05 22:15:44"
      ]
     },
     "execution_count": 14,
     "metadata": {},
     "output_type": "execute_result"
    }
   ],
   "source": [
    "df = ks.read_csv('/home/eric/Sync/datasets/moviedata/moviedata-lite/ratings.csv')\n",
    "df.head(3)"
   ]
  },
  {
   "cell_type": "code",
   "execution_count": 15,
   "metadata": {},
   "outputs": [],
   "source": [
    "df.to_parquet('/tmp/koalas_ratings')"
   ]
  },
  {
   "cell_type": "code",
   "execution_count": 16,
   "metadata": {},
   "outputs": [
    {
     "name": "stdout",
     "output_type": "stream",
     "text": [
      "total 68\n",
      "drwxrwxr-x  2 eric eric  4096 May  7 11:24 .\n",
      "drwxrwxrwt 31 root root  4096 May  7 11:24 ..\n",
      "-rw-r--r--  1 eric eric 50200 May  7 11:24 part-00000-c5133d54-11d1-4fb8-8434-a158ca297867-c000.snappy.parquet\n",
      "-rw-r--r--  1 eric eric   404 May  7 11:24 .part-00000-c5133d54-11d1-4fb8-8434-a158ca297867-c000.snappy.parquet.crc\n",
      "-rw-r--r--  1 eric eric     0 May  7 11:24 _SUCCESS\n",
      "-rw-r--r--  1 eric eric     8 May  7 11:24 ._SUCCESS.crc\n"
     ]
    }
   ],
   "source": [
    "!ls /tmp/koalas_ratings -al"
   ]
  },
  {
   "cell_type": "code",
   "execution_count": 17,
   "metadata": {},
   "outputs": [
    {
     "name": "stdout",
     "output_type": "stream",
     "text": [
      "+----------+--------------------+--------+------+-------------------+\n",
      "| RATING_ID|            USER_MD5|MOVIE_ID|RATING|        RATING_TIME|\n",
      "+----------+--------------------+--------+------+-------------------+\n",
      "|1359352573|0ab7e3efacd56983f...| 5113101|     2|2018-09-05 19:42:07|\n",
      "|1598245094|84dfd3f91dd85ea10...| 5113101|     1|2019-07-09 14:52:07|\n",
      "| 311937819|c9a47fd59b55967ce...| 3718526|     3|2010-11-05 22:15:44|\n",
      "+----------+--------------------+--------+------+-------------------+\n",
      "only showing top 3 rows\n",
      "\n"
     ]
    }
   ],
   "source": [
    "df = spark.read.parquet('/tmp/koalas_ratings')\n",
    "df.show(3)"
   ]
  },
  {
   "cell_type": "code",
   "execution_count": 18,
   "metadata": {},
   "outputs": [
    {
     "data": {
      "text/html": [
       "<div>\n",
       "<style scoped>\n",
       "    .dataframe tbody tr th:only-of-type {\n",
       "        vertical-align: middle;\n",
       "    }\n",
       "\n",
       "    .dataframe tbody tr th {\n",
       "        vertical-align: top;\n",
       "    }\n",
       "\n",
       "    .dataframe thead th {\n",
       "        text-align: right;\n",
       "    }\n",
       "</style>\n",
       "<table border=\"1\" class=\"dataframe\">\n",
       "  <thead>\n",
       "    <tr style=\"text-align: right;\">\n",
       "      <th></th>\n",
       "      <th>RATING_ID</th>\n",
       "      <th>USER_MD5</th>\n",
       "      <th>MOVIE_ID</th>\n",
       "      <th>RATING</th>\n",
       "      <th>RATING_TIME</th>\n",
       "    </tr>\n",
       "  </thead>\n",
       "  <tbody>\n",
       "    <tr>\n",
       "      <th>0</th>\n",
       "      <td>1359352573</td>\n",
       "      <td>0ab7e3efacd56983f16503572d2b9915</td>\n",
       "      <td>5113101</td>\n",
       "      <td>2</td>\n",
       "      <td>2018-09-05 11:42:07</td>\n",
       "    </tr>\n",
       "    <tr>\n",
       "      <th>1</th>\n",
       "      <td>1598245094</td>\n",
       "      <td>84dfd3f91dd85ea105bc74a4f0d7a067</td>\n",
       "      <td>5113101</td>\n",
       "      <td>1</td>\n",
       "      <td>2019-07-09 06:52:07</td>\n",
       "    </tr>\n",
       "    <tr>\n",
       "      <th>2</th>\n",
       "      <td>311937819</td>\n",
       "      <td>c9a47fd59b55967ceac07cac6d5f270c</td>\n",
       "      <td>3718526</td>\n",
       "      <td>3</td>\n",
       "      <td>2010-11-05 14:15:44</td>\n",
       "    </tr>\n",
       "  </tbody>\n",
       "</table>\n",
       "</div>"
      ],
      "text/plain": [
       "    RATING_ID                          USER_MD5  MOVIE_ID  RATING  \\\n",
       "0  1359352573  0ab7e3efacd56983f16503572d2b9915   5113101       2   \n",
       "1  1598245094  84dfd3f91dd85ea105bc74a4f0d7a067   5113101       1   \n",
       "2   311937819  c9a47fd59b55967ceac07cac6d5f270c   3718526       3   \n",
       "\n",
       "          RATING_TIME  \n",
       "0 2018-09-05 11:42:07  \n",
       "1 2019-07-09 06:52:07  \n",
       "2 2010-11-05 14:15:44  "
      ]
     },
     "execution_count": 18,
     "metadata": {},
     "output_type": "execute_result"
    }
   ],
   "source": [
    "pd.read_parquet('/tmp/koalas_ratings').head(3)"
   ]
  },
  {
   "cell_type": "code",
   "execution_count": 19,
   "metadata": {},
   "outputs": [],
   "source": [
    "spark.stop()"
   ]
  },
  {
   "cell_type": "code",
   "execution_count": null,
   "metadata": {},
   "outputs": [],
   "source": []
  }
 ],
 "metadata": {
  "kernelspec": {
   "display_name": "Python 3",
   "language": "python",
   "name": "python3"
  },
  "language_info": {
   "codemirror_mode": {
    "name": "ipython",
    "version": 3
   },
   "file_extension": ".py",
   "mimetype": "text/x-python",
   "name": "python",
   "nbconvert_exporter": "python",
   "pygments_lexer": "ipython3",
   "version": "3.7.6"
  }
 },
 "nbformat": 4,
 "nbformat_minor": 4
}
