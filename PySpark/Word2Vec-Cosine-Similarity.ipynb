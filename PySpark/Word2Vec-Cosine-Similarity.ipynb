{
 "cells": [
  {
   "cell_type": "code",
   "execution_count": 1,
   "metadata": {},
   "outputs": [],
   "source": [
    "import findspark\n",
    "findspark.init()"
   ]
  },
  {
   "cell_type": "code",
   "execution_count": 2,
   "metadata": {},
   "outputs": [],
   "source": [
    "import pandas as pd\n",
    "from pyspark.sql import SparkSession\n",
    "from pyspark.sql.types import (\n",
    "    StringType,\n",
    "    ArrayType,\n",
    "    FloatType\n",
    ")\n",
    "from pyspark.sql.functions import (\n",
    "    udf,\n",
    "    col\n",
    ")\n",
    "from pyspark.ml.feature import Word2Vec\n",
    "# !pip install jieba\n",
    "import jieba"
   ]
  },
  {
   "cell_type": "code",
   "execution_count": 3,
   "metadata": {},
   "outputs": [],
   "source": [
    "spark = (SparkSession\n",
    "    .builder\n",
    "    .appName(\"pyspark-word2vec-cosine-similarity\")\n",
    "    .getOrCreate())"
   ]
  },
  {
   "cell_type": "code",
   "execution_count": 4,
   "metadata": {},
   "outputs": [],
   "source": [
    "df = (spark.\n",
    "      read.\n",
    "      csv('/home/eric/Sync/datasets/misc/tech-posts.csv', header=True)\n",
    "      .select('id', 'title')).cache()"
   ]
  },
  {
   "cell_type": "code",
   "execution_count": 5,
   "metadata": {},
   "outputs": [],
   "source": [
    "def jieba_seg(x):\n",
    "    return [w for w in jieba.cut(x) if len(w)>1]"
   ]
  },
  {
   "cell_type": "code",
   "execution_count": 6,
   "metadata": {},
   "outputs": [],
   "source": [
    "jieba_seg_udf = udf(jieba_seg, ArrayType(StringType()))"
   ]
  },
  {
   "cell_type": "code",
   "execution_count": 7,
   "metadata": {},
   "outputs": [],
   "source": [
    "df = df.withColumn('words', jieba_seg_udf(df['title']))"
   ]
  },
  {
   "cell_type": "code",
   "execution_count": 8,
   "metadata": {},
   "outputs": [
    {
     "name": "stdout",
     "output_type": "stream",
     "text": [
      "root\n",
      " |-- id: string (nullable = true)\n",
      " |-- title: string (nullable = true)\n",
      " |-- words: array (nullable = true)\n",
      " |    |-- element: string (containsNull = true)\n",
      "\n"
     ]
    }
   ],
   "source": [
    "df.printSchema()"
   ]
  },
  {
   "cell_type": "code",
   "execution_count": 9,
   "metadata": {},
   "outputs": [],
   "source": [
    "model = Word2Vec(numPartitions=10, inputCol='words', outputCol='vecs').fit(df)"
   ]
  },
  {
   "cell_type": "code",
   "execution_count": 10,
   "metadata": {},
   "outputs": [
    {
     "data": {
      "text/plain": [
       "2703"
      ]
     },
     "execution_count": 10,
     "metadata": {},
     "output_type": "execute_result"
    }
   ],
   "source": [
    "model.getVectors().count()"
   ]
  },
  {
   "cell_type": "code",
   "execution_count": 11,
   "metadata": {},
   "outputs": [],
   "source": [
    "df_transformed = model.transform(df)"
   ]
  },
  {
   "cell_type": "code",
   "execution_count": 12,
   "metadata": {},
   "outputs": [],
   "source": [
    "df_cross = df_transformed.select(\n",
    "    col('id').alias('id1'),\n",
    "    col('vecs').alias('vecs1')).crossJoin(df_transformed.select(\n",
    "        col('id').alias('id2'),\n",
    "        col('vecs').alias('vecs2'))\n",
    ")"
   ]
  },
  {
   "cell_type": "code",
   "execution_count": 13,
   "metadata": {},
   "outputs": [
    {
     "name": "stdout",
     "output_type": "stream",
     "text": [
      "+---+--------------------+---+--------------------+\n",
      "|id1|               vecs1|id2|               vecs2|\n",
      "+---+--------------------+---+--------------------+\n",
      "|  9|[0.00491762642050...|  9|[0.00491762642050...|\n",
      "|  9|[0.00491762642050...| 16|[0.01621099077165...|\n",
      "|  9|[0.00491762642050...|  8|[-0.0403248976605...|\n",
      "|  9|[0.00491762642050...|  1|[-0.0259283815510...|\n",
      "|  9|[0.00491762642050...|  5|[0.02066894519763...|\n",
      "|  9|[0.00491762642050...|  6|[0.03616197061880...|\n",
      "|  9|[0.00491762642050...|  7|[0.01177302086725...|\n",
      "|  9|[0.00491762642050...|  2|[-0.0077832460713...|\n",
      "|  9|[0.00491762642050...| 72|[0.00162717599887...|\n",
      "|  9|[0.00491762642050...|  4|[0.00955085083842...|\n",
      "|  9|[0.00491762642050...| 73|[0.03020236175507...|\n",
      "|  9|[0.00491762642050...| 10|[-0.0089490925893...|\n",
      "|  9|[0.00491762642050...| 75|[8.69367737323045...|\n",
      "|  9|[0.00491762642050...| 11|[-0.0056437781546...|\n",
      "|  9|[0.00491762642050...| 76|[-0.0014370117569...|\n",
      "|  9|[0.00491762642050...| 12|[0.01493579955838...|\n",
      "|  9|[0.00491762642050...| 13|[-0.0019247848540...|\n",
      "|  9|[0.00491762642050...| 14|[-2.8988160192966...|\n",
      "|  9|[0.00491762642050...| 15|[0.06685687601566...|\n",
      "|  9|[0.00491762642050...| 96|[-0.0059505784651...|\n",
      "+---+--------------------+---+--------------------+\n",
      "only showing top 20 rows\n",
      "\n"
     ]
    }
   ],
   "source": [
    "df_cross.show()"
   ]
  },
  {
   "cell_type": "code",
   "execution_count": 14,
   "metadata": {},
   "outputs": [],
   "source": [
    "from scipy import spatial\n",
    "\n",
    "@udf(returnType=FloatType())\n",
    "def sim(x, y):\n",
    "    return float(1 - spatial.distance.cosine(x, y))"
   ]
  },
  {
   "cell_type": "code",
   "execution_count": 15,
   "metadata": {},
   "outputs": [],
   "source": [
    "df_cross = df_cross.withColumn('sim', sim(df_cross['vecs1'], df_cross['vecs2']))"
   ]
  },
  {
   "cell_type": "code",
   "execution_count": 16,
   "metadata": {},
   "outputs": [],
   "source": [
    "test_id = 7445"
   ]
  },
  {
   "cell_type": "code",
   "execution_count": 17,
   "metadata": {},
   "outputs": [],
   "source": [
    "pdf1 = df_cross.filter(col('id1')==test_id).toPandas()"
   ]
  },
  {
   "cell_type": "code",
   "execution_count": 22,
   "metadata": {},
   "outputs": [
    {
     "data": {
      "text/html": [
       "<div>\n",
       "<style scoped>\n",
       "    .dataframe tbody tr th:only-of-type {\n",
       "        vertical-align: middle;\n",
       "    }\n",
       "\n",
       "    .dataframe tbody tr th {\n",
       "        vertical-align: top;\n",
       "    }\n",
       "\n",
       "    .dataframe thead th {\n",
       "        text-align: right;\n",
       "    }\n",
       "</style>\n",
       "<table border=\"1\" class=\"dataframe\">\n",
       "  <thead>\n",
       "    <tr style=\"text-align: right;\">\n",
       "      <th></th>\n",
       "      <th>id1</th>\n",
       "      <th>vecs1</th>\n",
       "      <th>id2</th>\n",
       "      <th>vecs2</th>\n",
       "      <th>sim</th>\n",
       "    </tr>\n",
       "  </thead>\n",
       "  <tbody>\n",
       "    <tr>\n",
       "      <th>14297</th>\n",
       "      <td>7445</td>\n",
       "      <td>[-0.003779336577281356, -0.1523637380450964, -...</td>\n",
       "      <td>6150</td>\n",
       "      <td>[0.010635668052903686, -0.1240268386900425, -0...</td>\n",
       "      <td>0.986141</td>\n",
       "    </tr>\n",
       "    <tr>\n",
       "      <th>12974</th>\n",
       "      <td>7445</td>\n",
       "      <td>[-0.003779336577281356, -0.1523637380450964, -...</td>\n",
       "      <td>4558</td>\n",
       "      <td>[-0.015396797796711326, -0.17607890628278255, ...</td>\n",
       "      <td>0.984285</td>\n",
       "    </tr>\n",
       "    <tr>\n",
       "      <th>5155</th>\n",
       "      <td>7445</td>\n",
       "      <td>[-0.003779336577281356, -0.1523637380450964, -...</td>\n",
       "      <td>13264</td>\n",
       "      <td>[-0.012317438237369062, -0.14086312502622605, ...</td>\n",
       "      <td>0.984285</td>\n",
       "    </tr>\n",
       "    <tr>\n",
       "      <th>2203</th>\n",
       "      <td>7445</td>\n",
       "      <td>[-0.003779336577281356, -0.1523637380450964, -...</td>\n",
       "      <td>2219</td>\n",
       "      <td>[0.006141198022911945, -0.07564452496202041, -...</td>\n",
       "      <td>0.980139</td>\n",
       "    </tr>\n",
       "    <tr>\n",
       "      <th>11891</th>\n",
       "      <td>7445</td>\n",
       "      <td>[-0.003779336577281356, -0.1523637380450964, -...</td>\n",
       "      <td>11813</td>\n",
       "      <td>[-0.008300341665744781, -0.14514850452542305, ...</td>\n",
       "      <td>0.979465</td>\n",
       "    </tr>\n",
       "    <tr>\n",
       "      <th>13691</th>\n",
       "      <td>7445</td>\n",
       "      <td>[-0.003779336577281356, -0.1523637380450964, -...</td>\n",
       "      <td>5431</td>\n",
       "      <td>[0.012424760265275836, -0.12904690578579903, -...</td>\n",
       "      <td>0.978694</td>\n",
       "    </tr>\n",
       "    <tr>\n",
       "      <th>14950</th>\n",
       "      <td>7445</td>\n",
       "      <td>[-0.003779336577281356, -0.1523637380450964, -...</td>\n",
       "      <td>6892</td>\n",
       "      <td>[-0.00781940243073872, -0.07842672137277466, -...</td>\n",
       "      <td>0.978664</td>\n",
       "    </tr>\n",
       "    <tr>\n",
       "      <th>4264</th>\n",
       "      <td>7445</td>\n",
       "      <td>[-0.003779336577281356, -0.1523637380450964, -...</td>\n",
       "      <td>12563</td>\n",
       "      <td>[0.0004664606281689235, -0.09541171576295579, ...</td>\n",
       "      <td>0.977603</td>\n",
       "    </tr>\n",
       "    <tr>\n",
       "      <th>13695</th>\n",
       "      <td>7445</td>\n",
       "      <td>[-0.003779336577281356, -0.1523637380450964, -...</td>\n",
       "      <td>5429</td>\n",
       "      <td>[-0.010000718850642444, -0.09775994010269642, ...</td>\n",
       "      <td>0.977081</td>\n",
       "    </tr>\n",
       "    <tr>\n",
       "      <th>1781</th>\n",
       "      <td>7445</td>\n",
       "      <td>[-0.003779336577281356, -0.1523637380450964, -...</td>\n",
       "      <td>1804</td>\n",
       "      <td>[-0.011628177358943503, -0.0931693238671869, -...</td>\n",
       "      <td>0.976450</td>\n",
       "    </tr>\n",
       "  </tbody>\n",
       "</table>\n",
       "</div>"
      ],
      "text/plain": [
       "        id1                                              vecs1    id2  \\\n",
       "14297  7445  [-0.003779336577281356, -0.1523637380450964, -...   6150   \n",
       "12974  7445  [-0.003779336577281356, -0.1523637380450964, -...   4558   \n",
       "5155   7445  [-0.003779336577281356, -0.1523637380450964, -...  13264   \n",
       "2203   7445  [-0.003779336577281356, -0.1523637380450964, -...   2219   \n",
       "11891  7445  [-0.003779336577281356, -0.1523637380450964, -...  11813   \n",
       "13691  7445  [-0.003779336577281356, -0.1523637380450964, -...   5431   \n",
       "14950  7445  [-0.003779336577281356, -0.1523637380450964, -...   6892   \n",
       "4264   7445  [-0.003779336577281356, -0.1523637380450964, -...  12563   \n",
       "13695  7445  [-0.003779336577281356, -0.1523637380450964, -...   5429   \n",
       "1781   7445  [-0.003779336577281356, -0.1523637380450964, -...   1804   \n",
       "\n",
       "                                                   vecs2       sim  \n",
       "14297  [0.010635668052903686, -0.1240268386900425, -0...  0.986141  \n",
       "12974  [-0.015396797796711326, -0.17607890628278255, ...  0.984285  \n",
       "5155   [-0.012317438237369062, -0.14086312502622605, ...  0.984285  \n",
       "2203   [0.006141198022911945, -0.07564452496202041, -...  0.980139  \n",
       "11891  [-0.008300341665744781, -0.14514850452542305, ...  0.979465  \n",
       "13691  [0.012424760265275836, -0.12904690578579903, -...  0.978694  \n",
       "14950  [-0.00781940243073872, -0.07842672137277466, -...  0.978664  \n",
       "4264   [0.0004664606281689235, -0.09541171576295579, ...  0.977603  \n",
       "13695  [-0.010000718850642444, -0.09775994010269642, ...  0.977081  \n",
       "1781   [-0.011628177358943503, -0.0931693238671869, -...  0.976450  "
      ]
     },
     "execution_count": 22,
     "metadata": {},
     "output_type": "execute_result"
    }
   ],
   "source": [
    "sim_top10 = pdf1[pdf1.sim<1].sort_values('sim', ascending=False).head(10)\n",
    "sim_top10"
   ]
  },
  {
   "cell_type": "code",
   "execution_count": 19,
   "metadata": {},
   "outputs": [
    {
     "data": {
      "text/html": [
       "<div>\n",
       "<style scoped>\n",
       "    .dataframe tbody tr th:only-of-type {\n",
       "        vertical-align: middle;\n",
       "    }\n",
       "\n",
       "    .dataframe tbody tr th {\n",
       "        vertical-align: top;\n",
       "    }\n",
       "\n",
       "    .dataframe thead th {\n",
       "        text-align: right;\n",
       "    }\n",
       "</style>\n",
       "<table border=\"1\" class=\"dataframe\">\n",
       "  <thead>\n",
       "    <tr style=\"text-align: right;\">\n",
       "      <th></th>\n",
       "      <th>id</th>\n",
       "      <th>title</th>\n",
       "      <th>words</th>\n",
       "    </tr>\n",
       "  </thead>\n",
       "  <tbody>\n",
       "    <tr>\n",
       "      <th>0</th>\n",
       "      <td>7445</td>\n",
       "      <td>iOS 性能提升总结</td>\n",
       "      <td>[iOS, 性能, 提升, 总结]</td>\n",
       "    </tr>\n",
       "  </tbody>\n",
       "</table>\n",
       "</div>"
      ],
      "text/plain": [
       "     id       title              words\n",
       "0  7445  iOS 性能提升总结  [iOS, 性能, 提升, 总结]"
      ]
     },
     "execution_count": 19,
     "metadata": {},
     "output_type": "execute_result"
    }
   ],
   "source": [
    "df.filter(col('id')==test_id).toPandas()"
   ]
  },
  {
   "cell_type": "code",
   "execution_count": 20,
   "metadata": {},
   "outputs": [
    {
     "data": {
      "text/html": [
       "<div>\n",
       "<style scoped>\n",
       "    .dataframe tbody tr th:only-of-type {\n",
       "        vertical-align: middle;\n",
       "    }\n",
       "\n",
       "    .dataframe tbody tr th {\n",
       "        vertical-align: top;\n",
       "    }\n",
       "\n",
       "    .dataframe thead th {\n",
       "        text-align: right;\n",
       "    }\n",
       "</style>\n",
       "<table border=\"1\" class=\"dataframe\">\n",
       "  <thead>\n",
       "    <tr style=\"text-align: right;\">\n",
       "      <th></th>\n",
       "      <th>id</th>\n",
       "      <th>title</th>\n",
       "      <th>words</th>\n",
       "    </tr>\n",
       "  </thead>\n",
       "  <tbody>\n",
       "    <tr>\n",
       "      <th>0</th>\n",
       "      <td>1804</td>\n",
       "      <td>[译] Android 性能优化课程（一）：渲染性能 (@刘智勇同学)</td>\n",
       "      <td>[Android, 性能, 优化, 课程, 渲染, 性能, 智勇, 同学]</td>\n",
       "    </tr>\n",
       "    <tr>\n",
       "      <th>1</th>\n",
       "      <td>2219</td>\n",
       "      <td>iOS 图形性能进阶与测试 (@方秋枋)</td>\n",
       "      <td>[iOS, 图形, 性能, 进阶, 测试, 方秋枋]</td>\n",
       "    </tr>\n",
       "    <tr>\n",
       "      <th>2</th>\n",
       "      <td>12563</td>\n",
       "      <td>iOS 开发中的 11 种锁以及性能对比</td>\n",
       "      <td>[iOS, 开发, 11, 种锁, 以及, 性能, 对比]</td>\n",
       "    </tr>\n",
       "    <tr>\n",
       "      <th>3</th>\n",
       "      <td>13264</td>\n",
       "      <td>Android 性能优化来龙去脉总结</td>\n",
       "      <td>[Android, 性能, 优化, 来龙去脉, 总结]</td>\n",
       "    </tr>\n",
       "    <tr>\n",
       "      <th>4</th>\n",
       "      <td>11813</td>\n",
       "      <td>Android App 性能优化的一些思考</td>\n",
       "      <td>[Android, App, 性能, 优化, 一些, 思考]</td>\n",
       "    </tr>\n",
       "    <tr>\n",
       "      <th>5</th>\n",
       "      <td>4558</td>\n",
       "      <td>[译] Android 性能优化总结</td>\n",
       "      <td>[Android, 性能, 优化, 总结]</td>\n",
       "    </tr>\n",
       "    <tr>\n",
       "      <th>6</th>\n",
       "      <td>5431</td>\n",
       "      <td>iOS 开发性能提高</td>\n",
       "      <td>[iOS, 开发, 性能, 提高]</td>\n",
       "    </tr>\n",
       "    <tr>\n",
       "      <th>7</th>\n",
       "      <td>5429</td>\n",
       "      <td>[译] Android 界面性能调优手册</td>\n",
       "      <td>[Android, 界面, 性能, 调优, 手册]</td>\n",
       "    </tr>\n",
       "    <tr>\n",
       "      <th>8</th>\n",
       "      <td>6150</td>\n",
       "      <td>微信读书 iOS 性能优化总结</td>\n",
       "      <td>[微信, 读书, iOS, 性能, 优化, 总结]</td>\n",
       "    </tr>\n",
       "    <tr>\n",
       "      <th>9</th>\n",
       "      <td>6892</td>\n",
       "      <td>[译] iOS 性能优化：Instruments 工具的救命三招</td>\n",
       "      <td>[iOS, 性能, 优化, Instruments, 工具, 救命, 三招]</td>\n",
       "    </tr>\n",
       "  </tbody>\n",
       "</table>\n",
       "</div>"
      ],
      "text/plain": [
       "      id                                title  \\\n",
       "0   1804  [译] Android 性能优化课程（一）：渲染性能 (@刘智勇同学)   \n",
       "1   2219                 iOS 图形性能进阶与测试 (@方秋枋)   \n",
       "2  12563                 iOS 开发中的 11 种锁以及性能对比   \n",
       "3  13264                   Android 性能优化来龙去脉总结   \n",
       "4  11813                Android App 性能优化的一些思考   \n",
       "5   4558                   [译] Android 性能优化总结   \n",
       "6   5431                           iOS 开发性能提高   \n",
       "7   5429                 [译] Android 界面性能调优手册   \n",
       "8   6150                      微信读书 iOS 性能优化总结   \n",
       "9   6892     [译] iOS 性能优化：Instruments 工具的救命三招   \n",
       "\n",
       "                                    words  \n",
       "0   [Android, 性能, 优化, 课程, 渲染, 性能, 智勇, 同学]  \n",
       "1              [iOS, 图形, 性能, 进阶, 测试, 方秋枋]  \n",
       "2           [iOS, 开发, 11, 种锁, 以及, 性能, 对比]  \n",
       "3             [Android, 性能, 优化, 来龙去脉, 总结]  \n",
       "4          [Android, App, 性能, 优化, 一些, 思考]  \n",
       "5                   [Android, 性能, 优化, 总结]  \n",
       "6                       [iOS, 开发, 性能, 提高]  \n",
       "7               [Android, 界面, 性能, 调优, 手册]  \n",
       "8               [微信, 读书, iOS, 性能, 优化, 总结]  \n",
       "9  [iOS, 性能, 优化, Instruments, 工具, 救命, 三招]  "
      ]
     },
     "execution_count": 20,
     "metadata": {},
     "output_type": "execute_result"
    }
   ],
   "source": [
    "df.filter(df.id.isin(sim_top10['id2'].to_list())).toPandas()"
   ]
  },
  {
   "cell_type": "code",
   "execution_count": 21,
   "metadata": {},
   "outputs": [],
   "source": [
    "spark.stop()"
   ]
  },
  {
   "cell_type": "code",
   "execution_count": null,
   "metadata": {},
   "outputs": [],
   "source": []
  }
 ],
 "metadata": {
  "kernelspec": {
   "display_name": "Python 3",
   "language": "python",
   "name": "python3"
  },
  "language_info": {
   "codemirror_mode": {
    "name": "ipython",
    "version": 3
   },
   "file_extension": ".py",
   "mimetype": "text/x-python",
   "name": "python",
   "nbconvert_exporter": "python",
   "pygments_lexer": "ipython3",
   "version": "3.7.6"
  }
 },
 "nbformat": 4,
 "nbformat_minor": 4
}
