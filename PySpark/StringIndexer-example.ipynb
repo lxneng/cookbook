{
 "cells": [
  {
   "cell_type": "code",
   "execution_count": 1,
   "metadata": {},
   "outputs": [],
   "source": [
    "import findspark\n",
    "findspark.init()"
   ]
  },
  {
   "cell_type": "code",
   "execution_count": 2,
   "metadata": {},
   "outputs": [
    {
     "name": "stdout",
     "output_type": "stream",
     "text": [
      "comments.csv  movies.csv  person.csv  ratings.csv  users.csv\n"
     ]
    }
   ],
   "source": [
    "! ls ~/Sync/datasets/moviedata/moviedata-lite"
   ]
  },
  {
   "cell_type": "code",
   "execution_count": 3,
   "metadata": {},
   "outputs": [],
   "source": [
    "from pyspark.sql import SparkSession"
   ]
  },
  {
   "cell_type": "code",
   "execution_count": 4,
   "metadata": {},
   "outputs": [],
   "source": [
    "spark = (SparkSession\n",
    "    .builder\n",
    "    .appName(\"StringIndexer Example\")\n",
    "    .getOrCreate())"
   ]
  },
  {
   "cell_type": "code",
   "execution_count": 5,
   "metadata": {},
   "outputs": [],
   "source": [
    "df = spark.read.csv('/home/eric/Sync/datasets/moviedata/moviedata-lite/ratings.csv', header=True)"
   ]
  },
  {
   "cell_type": "code",
   "execution_count": 6,
   "metadata": {},
   "outputs": [
    {
     "name": "stdout",
     "output_type": "stream",
     "text": [
      "root\n",
      " |-- RATING_ID: string (nullable = true)\n",
      " |-- USER_MD5: string (nullable = true)\n",
      " |-- MOVIE_ID: string (nullable = true)\n",
      " |-- RATING: string (nullable = true)\n",
      " |-- RATING_TIME: string (nullable = true)\n",
      "\n"
     ]
    }
   ],
   "source": [
    "df.printSchema()"
   ]
  },
  {
   "cell_type": "code",
   "execution_count": 7,
   "metadata": {},
   "outputs": [
    {
     "name": "stdout",
     "output_type": "stream",
     "text": [
      "+----------+--------------------+--------+------+-------------------+\n",
      "| RATING_ID|            USER_MD5|MOVIE_ID|RATING|        RATING_TIME|\n",
      "+----------+--------------------+--------+------+-------------------+\n",
      "|1359352573|0ab7e3efacd56983f...| 5113101|     2|2018-09-05 19:42:07|\n",
      "|1598245094|84dfd3f91dd85ea10...| 5113101|     1|2019-07-09 14:52:07|\n",
      "| 311937819|c9a47fd59b55967ce...| 3718526|     3|2010-11-05 22:15:44|\n",
      "| 457663846|18cbf971bdf173360...| 3718526|     4|2011-11-14 22:31:02|\n",
      "| 313277849|47e69de0d68e6a4db...| 3718526|     4|2010-11-09 12:41:11|\n",
      "+----------+--------------------+--------+------+-------------------+\n",
      "only showing top 5 rows\n",
      "\n"
     ]
    }
   ],
   "source": [
    "df.show(5)"
   ]
  },
  {
   "cell_type": "code",
   "execution_count": 8,
   "metadata": {},
   "outputs": [],
   "source": [
    "from pyspark.ml.feature import StringIndexer"
   ]
  },
  {
   "cell_type": "code",
   "execution_count": 9,
   "metadata": {},
   "outputs": [
    {
     "name": "stdout",
     "output_type": "stream",
     "text": [
      "+----------+--------------------+--------+------+-------------------+-------+\n",
      "| RATING_ID|            USER_MD5|MOVIE_ID|RATING|        RATING_TIME|USER_ID|\n",
      "+----------+--------------------+--------+------+-------------------+-------+\n",
      "|1359352573|0ab7e3efacd56983f...| 5113101|     2|2018-09-05 19:42:07|   74.0|\n",
      "|1598245094|84dfd3f91dd85ea10...| 5113101|     1|2019-07-09 14:52:07|  949.0|\n",
      "| 311937819|c9a47fd59b55967ce...| 3718526|     3|2010-11-05 22:15:44|  498.0|\n",
      "| 457663846|18cbf971bdf173360...| 3718526|     4|2011-11-14 22:31:02|  866.0|\n",
      "| 313277849|47e69de0d68e6a4db...| 3718526|     4|2010-11-09 12:41:11|  426.0|\n",
      "+----------+--------------------+--------+------+-------------------+-------+\n",
      "only showing top 5 rows\n",
      "\n"
     ]
    }
   ],
   "source": [
    "stringIndexer = StringIndexer(inputCol=\"USER_MD5\", outputCol=\"USER_ID\")\n",
    "model = stringIndexer.fit(df)\n",
    "indexed = model.transform(df)\n",
    "indexed.show(5)"
   ]
  },
  {
   "cell_type": "code",
   "execution_count": 10,
   "metadata": {},
   "outputs": [],
   "source": [
    "indexed_1 = indexed.select(\"USER_ID\", \"MOVIE_ID\", \"RATING\")"
   ]
  },
  {
   "cell_type": "code",
   "execution_count": 11,
   "metadata": {},
   "outputs": [],
   "source": [
    "from pyspark.ml.feature import IndexToString"
   ]
  },
  {
   "cell_type": "code",
   "execution_count": 12,
   "metadata": {},
   "outputs": [
    {
     "name": "stdout",
     "output_type": "stream",
     "text": [
      "+-------+--------+------+--------------------+\n",
      "|USER_ID|MOVIE_ID|RATING|   USER_MD5_ORIGINAL|\n",
      "+-------+--------+------+--------------------+\n",
      "|   74.0| 5113101|     2|0ab7e3efacd56983f...|\n",
      "|  949.0| 5113101|     1|84dfd3f91dd85ea10...|\n",
      "|  498.0| 3718526|     3|c9a47fd59b55967ce...|\n",
      "|  866.0| 3718526|     4|18cbf971bdf173360...|\n",
      "|  426.0| 3718526|     4|47e69de0d68e6a4db...|\n",
      "+-------+--------+------+--------------------+\n",
      "only showing top 5 rows\n",
      "\n"
     ]
    }
   ],
   "source": [
    "converter = IndexToString(inputCol=\"USER_ID\", outputCol=\"USER_MD5_ORIGINAL\")\n",
    "converted = converter.transform(indexed_1)\n",
    "converted.show(5)"
   ]
  },
  {
   "cell_type": "code",
   "execution_count": 13,
   "metadata": {},
   "outputs": [
    {
     "name": "stdout",
     "output_type": "stream",
     "text": [
      "+--------------------+--------+------+\n",
      "|            USER_MD5|MOVIE_ID|RATING|\n",
      "+--------------------+--------+------+\n",
      "|0ab7e3efacd56983f...| 5113101|     2|\n",
      "|84dfd3f91dd85ea10...| 5113101|     1|\n",
      "|c9a47fd59b55967ce...| 3718526|     3|\n",
      "|18cbf971bdf173360...| 3718526|     4|\n",
      "|47e69de0d68e6a4db...| 3718526|     4|\n",
      "+--------------------+--------+------+\n",
      "only showing top 5 rows\n",
      "\n"
     ]
    }
   ],
   "source": [
    "converted.select(\"USER_MD5_ORIGINAL\", \"MOVIE_ID\", \"RATING\").withColumnRenamed(\"USER_MD5_ORIGINAL\", \"USER_MD5\").show(5)"
   ]
  },
  {
   "cell_type": "code",
   "execution_count": 14,
   "metadata": {},
   "outputs": [],
   "source": [
    "spark.stop()"
   ]
  },
  {
   "cell_type": "code",
   "execution_count": null,
   "metadata": {},
   "outputs": [],
   "source": []
  }
 ],
 "metadata": {
  "kernelspec": {
   "display_name": "Python 3",
   "language": "python",
   "name": "python3"
  },
  "language_info": {
   "codemirror_mode": {
    "name": "ipython",
    "version": 3
   },
   "file_extension": ".py",
   "mimetype": "text/x-python",
   "name": "python",
   "nbconvert_exporter": "python",
   "pygments_lexer": "ipython3",
   "version": "3.7.6"
  }
 },
 "nbformat": 4,
 "nbformat_minor": 4
}
